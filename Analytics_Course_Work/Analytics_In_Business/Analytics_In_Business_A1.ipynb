{
 "cells": [
  {
   "cell_type": "markdown",
   "metadata": {},
   "source": [
    "# Comm 461 Assignment 1\n",
    "\n",
    "\n",
    "** SUBMITTED BY: **"
   ]
  },
  {
   "cell_type": "markdown",
   "metadata": {},
   "source": [
    "Michael Krakovsky 10134030 | Abhit Sahota 10147351 | Aidan Horvath 10132966 | David Aquino 10134911"
   ]
  },
  {
   "cell_type": "markdown",
   "metadata": {},
   "source": [
    "## Instructions\n",
    "In the problems below, modify and enter Python 3 code in the code cells as required by the questions. Also, when prompted, provide your written answers in the markdown cells marked as \n",
    "\n",
    "*Your answer goes here*\n",
    "\n",
    "The code you enter is expected to run under default Anacoda package configuration for Python 3 unless stated otherwise. \n",
    "\n",
    "---\n",
    "The code cell below imports several standard packages used in the assignment and performs setup for plots."
   ]
  },
  {
   "cell_type": "code",
   "execution_count": 27,
   "metadata": {
    "collapsed": true
   },
   "outputs": [],
   "source": [
    "# We use numpy for random number generation and data handling\n",
    "import numpy as np\n",
    "\n",
    "# We matplotlib package for plotting \n",
    "import matplotlib\n",
    "import matplotlib.pyplot as plt\n",
    "%matplotlib inline\n",
    "# Parameters for figures\n",
    "plt.rcParams['axes.labelsize'] = 14\n",
    "plt.rcParams['xtick.labelsize'] = 12\n",
    "plt.rcParams['ytick.labelsize'] = 12\n",
    "\n",
    "# We use functionality of Scikit-Learn for fitting linear models\n",
    "from sklearn.linear_model import LinearRegression\n",
    "from sklearn.linear_model import LassoCV\n",
    "from sklearn.linear_model import RidgeCV\n",
    "from sklearn.preprocessing import PolynomialFeatures\n",
    "from sklearn.preprocessing import StandardScaler\n",
    "from sklearn.pipeline import Pipeline\n",
    "from sklearn.metrics import mean_squared_error\n",
    "from sklearn.model_selection import train_test_split\n",
    "\n",
    "# A function for plotting RMSE fit for training and testing set over varying training set size\n",
    "def plot_RMSE_fit(model, X, y):\n",
    "    X_train, X_val, y_train, y_val = train_test_split(X, y, test_size=0.2, random_state=10)\n",
    "    train_errors, val_errors = [], []\n",
    "    for m in range(1, len(X_train)):\n",
    "        model.fit(X_train[:m], y_train[:m])\n",
    "        y_train_predict = model.predict(X_train[:m])\n",
    "        y_val_predict = model.predict(X_val)\n",
    "        train_errors.append(mean_squared_error(y_train_predict, y_train[:m]))\n",
    "        val_errors.append(mean_squared_error(y_val_predict, y_val))\n",
    "\n",
    "    plt.plot(np.sqrt(train_errors), \"r-+\", linewidth=2, label=\"train\")\n",
    "    plt.plot(np.sqrt(val_errors), \"b-\", linewidth=3, label=\"test\")\n",
    "    plt.legend(loc=\"upper right\", fontsize=14)   \n",
    "    plt.xlabel(\"Training set size\", fontsize=14) \n",
    "    plt.ylabel(\"RMSE\", fontsize=14)              "
   ]
  },
  {
   "cell_type": "markdown",
   "metadata": {},
   "source": [
    "## Problem 1: Model Complexity and Regularization\n",
    "In this problem, we explore a tradeoff between model complexity and its ability to generalize to new data. We use artificially generated data to verify that the tested modelling approaches perform correctly.\n",
    "\n",
    "The code cell below produces the dataset, fits a straight line model to it and prints the coefficients. **Uncomment the appropriate lines to see the result.**"
   ]
  },
  {
   "cell_type": "code",
   "execution_count": 28,
   "metadata": {},
   "outputs": [
    {
     "name": "stdout",
     "output_type": "stream",
     "text": [
      "[ 9.7815954] [[-0.31493234]]\n"
     ]
    }
   ],
   "source": [
    "# The seed controls the dataset that is going to be produced\n",
    "np.random.seed(11)\n",
    "# Number of rows\n",
    "m = 100\n",
    "# X variable (feature)\n",
    "X = 20 * np.random.rand(m, 1) - 10\n",
    "# Label is a numerical value linked to X by a polynomial expression subject to a normal random error\n",
    "y = 0.013 * X**3 - 1.1 * X + 10 + 3 * np.random.randn(m, 1)\n",
    "\n",
    "# Create a Linear Regression model object\n",
    "lin_reg = LinearRegression()\n",
    "# Fit the model\n",
    "lin_reg.fit(X, y)\n",
    "# Print the coefficients\n",
    "print(lin_reg.intercept_, lin_reg.coef_)"
   ]
  },
  {
   "cell_type": "markdown",
   "metadata": {},
   "source": [
    "### Question (a)\n",
    "**What are the estimated coefficient values? Has the straight line model recovered the coefficient values assumed when we generated the data? Should we expect the straight line model to be able to recover them? Why or why not?** \n",
    "\n",
    "Enter your answer in the markdown cell below:\n",
    "\n",
    "---"
   ]
  },
  {
   "cell_type": "markdown",
   "metadata": {},
   "source": [
    "The intercept and slope coefficient values are  9.7815954, and -0.31493234, respectively. The straight line model has not completely recovered the coefficient values that were assumed when the data was generated using the function y = 0.13x^3 -1.1x + 10. For example, the y-intercept assumed during data generation was 10, while the estimated value was close to this at 9.78. The slope coefficient value of -0.31 seems to capture the roughly negative slope of the inputted function within the x-value range of [-10, 10]. We should not expect the straight line model to be able to exactly recover the coefficient values of the assumed function. This is because of the normal random error applied to the original function, which adds an element of randomness to the data, as well as the fact that the original function is non-linear. "
   ]
  },
  {
   "cell_type": "markdown",
   "metadata": {},
   "source": [
    "---\n",
    "\n",
    "The code block below provides a visual examination of the original data and the model on the new data. Uncomment appropriate lines to see the result."
   ]
  },
  {
   "cell_type": "code",
   "execution_count": 29,
   "metadata": {},
   "outputs": [
    {
     "data": {
      "text/plain": [
       "[-10, 10, -5, 25]"
      ]
     },
     "execution_count": 29,
     "metadata": {},
     "output_type": "execute_result"
    },
    {
     "data": {
      "image/png": "[encoded data removed]",
      "text/plain": [
       "<matplotlib.figure.Figure at 0x24750aa57f0>"
      ]
     },
     "metadata": {},
     "output_type": "display_data"
    }
   ],
   "source": [
    "# Construct the x new values to evaluate predicitons on\n",
    "X_new = np.linspace(-10, 10, 100).reshape(100, 1)\n",
    "\n",
    "# Evaluate model predictions on new data\n",
    "y_new = lin_reg.predict(X_new)\n",
    "\n",
    "# Plot the original data\n",
    "plt.plot(X, y, \"k.\")\n",
    "# Plot predicted values\n",
    "plt.plot(X_new, y_new, \"r-\", linewidth=2, label=\"Predictions\")\n",
    "# Add axis labels \n",
    "plt.xlabel(\"$x$\", fontsize=18)\n",
    "plt.ylabel(\"$y$\", rotation=0, fontsize=18)\n",
    "plt.axis([-10, 10, -5, 25])\n"
   ]
  },
  {
   "cell_type": "markdown",
   "metadata": {},
   "source": [
    "### Question (b)\n",
    "** What ideas does the plot above provide for improving the model? Explain. **\n",
    "\n",
    "Enter your answer in the markdown cell below:\n",
    "\n",
    "---"
   ]
  },
  {
   "cell_type": "markdown",
   "metadata": {},
   "source": [
    "After viewing the graph above, we can observe that a linear model may not be the best fit for the data. The pattern of the data points displays curvatures which a linear model cannot appropriately model. This implies that a non-linear model may be necessary in order to improve model performance. "
   ]
  },
  {
   "cell_type": "markdown",
   "metadata": {},
   "source": [
    "---\n",
    "\n",
    "The code block below uses linear regression with polynomial features up to a given degree to construct more complex models of the form $y=a_0+a_1 x + a_2 x^2 + \\ldots +a_p x^p$ where $p$ is the degree in the polynomial and $a_0, a_1, \\ldots, a_p$ are model parameters (coefficients of the polynomial). The constant term $a_0$ will have to be accessed separately (as `intercept_` attribute of the model object) from the rest of the coefficients (that are accessed as `coef_` attribute of the model object). Uncomments the appropriate lines to see the result."
   ]
  },
  {
   "cell_type": "code",
   "execution_count": 30,
   "metadata": {},
   "outputs": [
    {
     "name": "stdout",
     "output_type": "stream",
     "text": [
      "[ 10.51724184] [[-0.33270294 -0.02288147]]\n",
      "[ 9.91505466] [[ -9.81831122e-01   4.51026485e-02   8.45096147e-03  -6.52894840e-04\n",
      "    3.52689692e-05]]\n",
      "[ 10.03859895] [[ -1.70138396e+00   5.08004789e-02   1.27786128e-01  -5.61917181e-03\n",
      "   -4.95199058e-03   2.09514384e-04   7.52048370e-05  -2.84773182e-06\n",
      "   -3.72474736e-07   1.23463872e-08]]\n"
     ]
    },
    {
     "data": {
      "text/plain": [
       "[-10, 10, -5, 25]"
      ]
     },
     "execution_count": 30,
     "metadata": {},
     "output_type": "execute_result"
    },
    {
     "data": {
      "image/png": "[encoded data removed]",
      "text/plain": [
       "<matplotlib.figure.Figure at 0x247509f0d68>"
      ]
     },
     "metadata": {},
     "output_type": "display_data"
    }
   ],
   "source": [
    "# The loop below iterates over the highest degree used in the model and the corresponding line style in the plot \n",
    "for style, degree in ((\"b-\", 2), (\"g-\", 5), (\"r-\", 10)):\n",
    "    # Construct modelling pipeline\n",
    "    poly_features = PolynomialFeatures(degree=degree, include_bias=False)\n",
    "    lin_reg = LinearRegression()\n",
    "    polynomial_regression = Pipeline([\n",
    "            (\"poly_features\", poly_features),\n",
    "            (\"lin_reg\", lin_reg),\n",
    "        ])\n",
    "    # Fit the model using the constructed pipeline\n",
    "    polynomial_regression.fit(X, y)\n",
    "    # Print the intercept and model coefficients\n",
    "    print(polynomial_regression.named_steps[\"lin_reg\"].intercept_, polynomial_regression.named_steps[\"lin_reg\"].coef_)\n",
    "    # Get predictions on new data\n",
    "    y_new_poly = polynomial_regression.predict(X_new)\n",
    "    # Plot the predicitons\n",
    "    plt.plot(X_new, y_new_poly, style, label=str(degree), linewidth=2)\n",
    "\n",
    "# Plot the original data\n",
    "plt.plot(X, y, \"k.\", linewidth=3)\n",
    "plt.legend(loc=\"upper left\")\n",
    "plt.xlabel(\"$x$\", fontsize=18)\n",
    "plt.ylabel(\"$y$\", rotation=0, fontsize=18)\n",
    "plt.axis([-10, 10, -5, 25])\n"
   ]
  },
  {
   "cell_type": "markdown",
   "metadata": {},
   "source": [
    "### Question (c)\n",
    "** Based on the plots, comment on performance of each model. Do some of the models manifest under-fitting or over-fitting? Can this be expected given what you know about the data and each model? Explain. **\n",
    "\n",
    "Enter your answer in the markdown cell below:\n",
    "\n",
    "---"
   ]
  },
  {
   "cell_type": "markdown",
   "metadata": {},
   "source": [
    "Degree 2: This model appears to be under-fitted, based on its lack of oscillations in line with the dataset. However, it does appear to better represent the data than the linear regression line used in the previous question. But nevertheless, the oscillating trend of the data is not fully represented with a degree of 2.\n",
    "\n",
    "Degree 5: This model seems to fit the data well because the model line curves into areas with a higher number of points, while avoiding overly specific curvatures influenced by individual points. \n",
    "\n",
    "Degree 10: The red line seems to overfit the data. The line possess too many curvatures and loses its accuracy near the end when the model takes a large dip due to the relatively lower y-value of the point furthest to the right in the data. \n",
    "\n",
    "These results can be expected given that the more complex a model (i.e. the more degrees included in the function), the closer it can be expected to fit the training data.  Hence, it makes sense that the “degree 2” model is relatively under fitted, while the “degree 10” model is relatively overfitted. \n"
   ]
  },
  {
   "cell_type": "markdown",
   "metadata": {},
   "source": [
    "---\n",
    "### Question (d)\n",
    "**In the code block below, implement the model with the highest degree that, in your opinion would result in the best fit. Print the coeffificients of this model and plot it together with the original training data.**"
   ]
  },
  {
   "cell_type": "code",
   "execution_count": 31,
   "metadata": {},
   "outputs": [
    {
     "name": "stdout",
     "output_type": "stream",
     "text": [
      "[ 10.1412431] [[ -9.83240261e-01   1.77205537e-03   9.17879588e-03   6.58023931e-04\n",
      "    2.56853354e-05  -9.82609865e-06]]\n"
     ]
    },
    {
     "data": {
      "text/plain": [
       "[-10, 10, -5, 25]"
      ]
     },
     "execution_count": 31,
     "metadata": {},
     "output_type": "execute_result"
    },
    {
     "data": {
      "image/png": "[encoded data removed]",
      "text/plain": [
       "<matplotlib.figure.Figure at 0x24750b1a630>"
      ]
     },
     "metadata": {},
     "output_type": "display_data"
    }
   ],
   "source": [
    "# Construct modelling pipeline\n",
    "poly_features = PolynomialFeatures(degree=6, include_bias=False)\n",
    "lin_reg = LinearRegression()\n",
    "polynomial_regression = Pipeline([\n",
    "        (\"poly_features\", poly_features),\n",
    "        (\"lin_reg\", lin_reg),\n",
    "    ])\n",
    "# Fit the model using the constructed pipeline\n",
    "polynomial_regression.fit(X, y)\n",
    "# Print the intercept and model coefficients\n",
    "print(polynomial_regression.named_steps[\"lin_reg\"].intercept_, polynomial_regression.named_steps[\"lin_reg\"].coef_)\n",
    "# Get predictions on new data\n",
    "y_new_poly = polynomial_regression.predict(X_new)\n",
    "# Plot the predicitons\n",
    "plt.plot(X_new, y_new_poly, \"b-\", label=str(6), linewidth=2)\n",
    "\n",
    "# Plot the original data\n",
    "plt.plot(X, y, \"k.\", linewidth=3)\n",
    "plt.legend(loc=\"upper left\")\n",
    "plt.xlabel(\"$x$\", fontsize=18)\n",
    "plt.ylabel(\"$y$\", rotation=0, fontsize=18)\n",
    "plt.axis([-10, 10, -5, 25])"
   ]
  },
  {
   "cell_type": "markdown",
   "metadata": {},
   "source": [
    "---\n",
    "\n",
    "In the code blocks below we use function plot_RMSE_fit (defined above) to split the data into training and testing sets, train a model on the training set of variable size and plot the error measure (root mean-square error or RMSE) against the training set size. \n",
    "\n",
    "We first do it for a straight-line model:"
   ]
  },
  {
   "cell_type": "code",
   "execution_count": 32,
   "metadata": {},
   "outputs": [
    {
     "data": {
      "text/plain": [
       "[0, 80, 0, 6]"
      ]
     },
     "execution_count": 32,
     "metadata": {},
     "output_type": "execute_result"
    },
    {
     "data": {
      "image/png": "[encoded data removed]",
      "text/plain": [
       "<matplotlib.figure.Figure at 0x2474e8b8470>"
      ]
     },
     "metadata": {},
     "output_type": "display_data"
    }
   ],
   "source": [
    "lin_reg = LinearRegression()\n",
    "\n",
    "plot_RMSE_fit(lin_reg, X, y)\n",
    "plt.axis([0, 80, 0, 6])  "
   ]
  },
  {
   "cell_type": "markdown",
   "metadata": {},
   "source": [
    "And then for a polynomial model of degree 10:"
   ]
  },
  {
   "cell_type": "code",
   "execution_count": 33,
   "metadata": {
    "scrolled": true
   },
   "outputs": [
    {
     "data": {
      "text/plain": [
       "[0, 80, 0, 6]"
      ]
     },
     "execution_count": 33,
     "metadata": {},
     "output_type": "execute_result"
    },
    {
     "data": {
      "image/png": "[encoded data removed]",
      "text/plain": [
       "<matplotlib.figure.Figure at 0x24750a0f550>"
      ]
     },
     "metadata": {},
     "output_type": "display_data"
    }
   ],
   "source": [
    "polynomial_regression = Pipeline([\n",
    "        (\"poly_features\", PolynomialFeatures(degree=10, include_bias=False)),\n",
    "        (\"lin_reg\", LinearRegression()),\n",
    "    ])\n",
    "\n",
    "plot_RMSE_fit(polynomial_regression, X, y)\n",
    "plt.axis([0, 80, 0, 6])"
   ]
  },
  {
   "cell_type": "markdown",
   "metadata": {},
   "source": [
    "### Question (e)\n",
    "** What is the name of the blue curve in the plots presented above? What do these curves tell you about the generalization performance of each model as the amount of training data changes? When does each model perform better? Explain. **\n",
    "\n",
    "Enter your answer in the markdown cell below:\n",
    "\n",
    "---"
   ]
  },
  {
   "cell_type": "markdown",
   "metadata": {},
   "source": [
    "The blue curves in the plots are called learning curves. These curves tell us how each respective model performs on holdout or test data, as the amount of training data grows. \n",
    "\n",
    " As the training dataset grows, the lines converge towards the amount of irreducible error that exists within the data set (In this case, this equals an RMSE of approximately 3 for the linear model, and slightly less than 3 for the polynomial regression). Generally, it seems that a larger training dataset results in better performance on test data, up to the point where the aforementioned irreducible error level is reached. \n",
    "\n",
    "The linear regression model performs better when the training dataset is smaller than ~20 data points, because the RMSE of the test set decreases to the irreducible error more quickly than it does in the polynomial model. The polynomial regression degree 10 model performs better on a training dataset larger than ~20 values, since after this threshold the amount of irreducible error is slightly less than that which is present in the linear regression model. \n"
   ]
  },
  {
   "cell_type": "markdown",
   "metadata": {},
   "source": [
    "---\n",
    "\n",
    "Ridge and Lasso regression methods permit automated selection of the model complexity. In particular, LassoCV modelling object below finds optimal model for each alpha and selects optimal alpha by testing the model in a cross-validation approach. The object requires a pre-computed table of all features. In this case, we use polynomial features up to degree 10. Uncomment appropriate lines in the code block below."
   ]
  },
  {
   "cell_type": "code",
   "execution_count": 34,
   "metadata": {},
   "outputs": [
    {
     "name": "stdout",
     "output_type": "stream",
     "text": [
      "9.74283760487\n",
      "[-3.9912532   0.          0.         -0.          2.65630886 -0.          0.\n",
      " -0.          0.         -0.45919843]\n",
      "0.0771657106491\n"
     ]
    },
    {
     "name": "stderr",
     "output_type": "stream",
     "text": [
      "C:\\Users\\micha\\Anaconda3\\lib\\site-packages\\sklearn\\linear_model\\coordinate_descent.py:491: ConvergenceWarning: Objective did not converge. You might want to increase the number of iterations. Fitting data with very small alpha may cause precision problems.\n",
      "  ConvergenceWarning)\n"
     ]
    }
   ],
   "source": [
    "# Define transformation pipeline\n",
    "poly_scaler = Pipeline([\n",
    "        (\"poly_features\", PolynomialFeatures(degree=10, include_bias=False)),\n",
    "        (\"std_scaler\", StandardScaler()),\n",
    "    ])\n",
    "\n",
    "# Generate the matrix of scaled polynomial features\n",
    "X_poly = poly_scaler.fit_transform(X)\n",
    "\n",
    "# Fit the model by cross-validation\n",
    "modelCV = LassoCV(cv = 5).fit(X_poly, y.ravel())\n",
    "\n",
    "# Print intercept, model coefficients, and optimal alpha\n",
    "print(modelCV.intercept_)\n",
    "print(modelCV.coef_)\n",
    "print(modelCV.alpha_)"
   ]
  },
  {
   "cell_type": "markdown",
   "metadata": {},
   "source": [
    "### Question (f)\n",
    "** Comment on the model. Has Lasso excluded any features from the model?**\n",
    "\n",
    "Enter your answer in the markdown cell below:\n",
    "\n",
    "---"
   ]
  },
  {
   "cell_type": "markdown",
   "metadata": {},
   "source": [
    "As seen by the zero-value coefficients above, Lasso has excluded seven features from the model. The Lasso model tends to drive covariant coefficients to 0. It therefore appears that the original coefficients displayed a relatively large degree of correlation, but that via regularization Lasso has attempted to correct for this. Interestingly, the y-intercept generated by the Lasso model (9.74) is closer to that which was generated by the linear model in Question 1A (9.78), than the intercept generated by the non-Lasso polynomial degree 10 function (10.04). "
   ]
  },
  {
   "cell_type": "markdown",
   "metadata": {},
   "source": [
    "---\n",
    "\n",
    "LassoCV output also permits visualization of the RMSE values for each fold (and the average RMSE over the folds). Uncomment appropriate lines in the code block below to see this plot."
   ]
  },
  {
   "cell_type": "code",
   "execution_count": 35,
   "metadata": {},
   "outputs": [
    {
     "data": {
      "text/plain": [
       "(-0.40106072376436708,\n",
       " 2.898939276235633,\n",
       " 2.340375905481924,\n",
       " 4.3938206245726299)"
      ]
     },
     "execution_count": 35,
     "metadata": {},
     "output_type": "execute_result"
    },
    {
     "data": {
      "image/png": "[encoded data removed]",
      "text/plain": [
       "<matplotlib.figure.Figure at 0x247509dc8d0>"
      ]
     },
     "metadata": {},
     "output_type": "display_data"
    }
   ],
   "source": [
    "# Display results\n",
    "m_log_alphas = -np.log10(modelCV.alphas_)\n",
    "\n",
    "plt.plot(m_log_alphas, np.sqrt(modelCV.mse_path_), ':')\n",
    "plt.plot(m_log_alphas, np.sqrt(modelCV.mse_path_.mean(axis=1)), 'k',\n",
    "         label='Average across the folds', linewidth=2)\n",
    "plt.axvline(-np.log10(modelCV.alpha_), linestyle='--', color='k',\n",
    "            label='alpha: CV estimate')\n",
    "\n",
    "plt.legend()\n",
    "plt.xlabel('-log(alpha)')\n",
    "plt.ylabel('RMSE')\n",
    "plt.title('Mean square error on each fold: coordinate descent ')\n",
    "plt.axis('tight')"
   ]
  },
  {
   "cell_type": "markdown",
   "metadata": {},
   "source": [
    "### Question (g)\n",
    "** What is this type of graph called? What is the best RMSE value seen in this plot and what does it represent? **\n",
    "\n",
    "Enter your answer in the markdown cell below:\n",
    "\n",
    "---"
   ]
  },
  {
   "cell_type": "markdown",
   "metadata": {},
   "source": [
    "This graph is a representation of the results of cross-validation. \n",
    "\n",
    "Three separate RMSE values can be considered “best,” depending on the interpretation of the question. We have included all three here.  \n",
    "\n",
    "The best RMSE value seen in the overall plot is that which is achieved by the holdout set represented by the green line, at a -log(alpha) value of approximately 2.30. This RMSE value is approximately 2.40, representing the best model performance at any level of alpha on any specific set of holdout data. \n",
    "\n",
    "However, this alpha value does not provide the best average RMSE across all holdout sets. Lasso sets alpha such that this average RMSE is minimized (visualized by the vertical line in the graph at -log(alpha) = ~1.1). At this level of alpha, the average RMSE is approximately 3.00. This RMSE value represents the approximate level of irreducible error in the data due to its somewhat random nature. This makes sense given that a multiple of 3 was applied to the normal random error used to generate the original data. \n",
    "\n",
    "Finally, the specific holdout set which has the best RMSE at this optimal level of alpha is represented by the red line, with an alpha value of approximately 2.6. "
   ]
  },
  {
   "cell_type": "markdown",
   "metadata": {},
   "source": [
    "---\n",
    "\n",
    "Lastly, we plot of the LassoCV model along with the original data. Uncomment appropriate lines below to see the plot."
   ]
  },
  {
   "cell_type": "code",
   "execution_count": 36,
   "metadata": {
    "scrolled": false
   },
   "outputs": [
    {
     "data": {
      "text/plain": [
       "[-10, 10, -5, 25]"
      ]
     },
     "execution_count": 36,
     "metadata": {},
     "output_type": "execute_result"
    },
    {
     "data": {
      "image/png": "[encoded data removed]",
      "text/plain": [
       "<matplotlib.figure.Figure at 0x24751c114e0>"
      ]
     },
     "metadata": {},
     "output_type": "display_data"
    }
   ],
   "source": [
    "# Need to transform new instances appropriately\n",
    "X_poly_new = poly_scaler.fit_transform(X_new)\n",
    "\n",
    "# Compute predictions on the new instances\n",
    "yCV_new = modelCV.predict(X_poly_new)\n",
    "\n",
    "# Plot new predictions\n",
    "plt.plot(X_new, yCV_new, \"r-\", linewidth=2, label = \"LassoCV\")\n",
    "\n",
    "# Plot the original data\n",
    "plt.plot(X, y, \"k.\", linewidth=3)\n",
    "plt.legend(loc=\"upper left\")\n",
    "plt.xlabel(\"$x$\", fontsize=18)\n",
    "plt.ylabel(\"$y$\", rotation=0, fontsize=18)\n",
    "plt.axis([-10, 10, -5, 25])"
   ]
  },
  {
   "cell_type": "markdown",
   "metadata": {},
   "source": [
    "### Question (h)\n",
    "** Comment on the apparent fit of this model compared to the best model you constructed in Question (d) **\n",
    "\n",
    "Enter your answer in the markdown cell below:\n",
    "\n",
    "---"
   ]
  },
  {
   "cell_type": "markdown",
   "metadata": {},
   "source": [
    "The best model we constructed in Question (d) was the 6-degree polynomial model. Both this model and the Lasso 10-degree model shown above appear to fit the data well, especially compared to all other models generated in this assignment. Both display oscillations which mirror the data points (and the original function used to create these data points) without a large degree of overfitting. \n",
    "\n",
    "Of the two, we believe that the Lasso 10-degree model is somewhat better fitted. It seems that the 6-degree model displays some overfitting, as illustrated by its downward dip on the far right, which is not in line with what would be expected by the original function used to create the training data (y = 0.13x^3 - 1.1x + 10). This seems to have occured due to a relatively outlying data point which can be seen on the bottom right of the graph. In contrast, the Lasso model does not display this characteristic: it slopes upward on the far right and therefore better maps the original function while avoiding being overly influenced by the outlying point in the training dataset. \n"
   ]
  },
  {
   "cell_type": "markdown",
   "metadata": {},
   "source": [
    "---"
   ]
  },
  {
   "cell_type": "markdown",
   "metadata": {},
   "source": [
    "## Problem 2: Comparison of Tree Classifier and Logistic Regression "
   ]
  },
  {
   "cell_type": "markdown",
   "metadata": {},
   "source": [
    "For this problem, we will use a standard Breast Cancer dataset from Scikit Learn library."
   ]
  },
  {
   "cell_type": "code",
   "execution_count": 37,
   "metadata": {},
   "outputs": [
    {
     "name": "stdout",
     "output_type": "stream",
     "text": [
      "Breast Cancer Wisconsin (Diagnostic) Database\n",
      "=============================================\n",
      "\n",
      "Notes\n",
      "-----\n",
      "Data Set Characteristics:\n",
      "    :Number of Instances: 569\n",
      "\n",
      "    :Number of Attributes: 30 numeric, predictive attributes and the class\n",
      "\n",
      "    :Attribute Information:\n",
      "        - radius (mean of distances from center to points on the perimeter)\n",
      "        - texture (standard deviation of gray-scale values)\n",
      "        - perimeter\n",
      "        - area\n",
      "        - smoothness (local variation in radius lengths)\n",
      "        - compactness (perimeter^2 / area - 1.0)\n",
      "        - concavity (severity of concave portions of the contour)\n",
      "        - concave points (number of concave portions of the contour)\n",
      "        - symmetry \n",
      "        - fractal dimension (\"coastline approximation\" - 1)\n",
      "\n",
      "        The mean, standard error, and \"worst\" or largest (mean of the three\n",
      "        largest values) of these features were computed for each image,\n",
      "        resulting in 30 features.  For instance, field 3 is Mean Radius, field\n",
      "        13 is Radius SE, field 23 is Worst Radius.\n",
      "\n",
      "        - class:\n",
      "                - WDBC-Malignant\n",
      "                - WDBC-Benign\n",
      "\n",
      "    :Summary Statistics:\n",
      "\n",
      "    ===================================== ====== ======\n",
      "                                           Min    Max\n",
      "    ===================================== ====== ======\n",
      "    radius (mean):                        6.981  28.11\n",
      "    texture (mean):                       9.71   39.28\n",
      "    perimeter (mean):                     43.79  188.5\n",
      "    area (mean):                          143.5  2501.0\n",
      "    smoothness (mean):                    0.053  0.163\n",
      "    compactness (mean):                   0.019  0.345\n",
      "    concavity (mean):                     0.0    0.427\n",
      "    concave points (mean):                0.0    0.201\n",
      "    symmetry (mean):                      0.106  0.304\n",
      "    fractal dimension (mean):             0.05   0.097\n",
      "    radius (standard error):              0.112  2.873\n",
      "    texture (standard error):             0.36   4.885\n",
      "    perimeter (standard error):           0.757  21.98\n",
      "    area (standard error):                6.802  542.2\n",
      "    smoothness (standard error):          0.002  0.031\n",
      "    compactness (standard error):         0.002  0.135\n",
      "    concavity (standard error):           0.0    0.396\n",
      "    concave points (standard error):      0.0    0.053\n",
      "    symmetry (standard error):            0.008  0.079\n",
      "    fractal dimension (standard error):   0.001  0.03\n",
      "    radius (worst):                       7.93   36.04\n",
      "    texture (worst):                      12.02  49.54\n",
      "    perimeter (worst):                    50.41  251.2\n",
      "    area (worst):                         185.2  4254.0\n",
      "    smoothness (worst):                   0.071  0.223\n",
      "    compactness (worst):                  0.027  1.058\n",
      "    concavity (worst):                    0.0    1.252\n",
      "    concave points (worst):               0.0    0.291\n",
      "    symmetry (worst):                     0.156  0.664\n",
      "    fractal dimension (worst):            0.055  0.208\n",
      "    ===================================== ====== ======\n",
      "\n",
      "    :Missing Attribute Values: None\n",
      "\n",
      "    :Class Distribution: 212 - Malignant, 357 - Benign\n",
      "\n",
      "    :Creator:  Dr. William H. Wolberg, W. Nick Street, Olvi L. Mangasarian\n",
      "\n",
      "    :Donor: Nick Street\n",
      "\n",
      "    :Date: November, 1995\n",
      "\n",
      "This is a copy of UCI ML Breast Cancer Wisconsin (Diagnostic) datasets.\n",
      "https://goo.gl/U2Uwz2\n",
      "\n",
      "Features are computed from a digitized image of a fine needle\n",
      "aspirate (FNA) of a breast mass.  They describe\n",
      "characteristics of the cell nuclei present in the image.\n",
      "\n",
      "Separating plane described above was obtained using\n",
      "Multisurface Method-Tree (MSM-T) [K. P. Bennett, \"Decision Tree\n",
      "Construction Via Linear Programming.\" Proceedings of the 4th\n",
      "Midwest Artificial Intelligence and Cognitive Science Society,\n",
      "pp. 97-101, 1992], a classification method which uses linear\n",
      "programming to construct a decision tree.  Relevant features\n",
      "were selected using an exhaustive search in the space of 1-4\n",
      "features and 1-3 separating planes.\n",
      "\n",
      "The actual linear program used to obtain the separating plane\n",
      "in the 3-dimensional space is that described in:\n",
      "[K. P. Bennett and O. L. Mangasarian: \"Robust Linear\n",
      "Programming Discrimination of Two Linearly Inseparable Sets\",\n",
      "Optimization Methods and Software 1, 1992, 23-34].\n",
      "\n",
      "This database is also available through the UW CS ftp server:\n",
      "\n",
      "ftp ftp.cs.wisc.edu\n",
      "cd math-prog/cpo-dataset/machine-learn/WDBC/\n",
      "\n",
      "References\n",
      "----------\n",
      "   - W.N. Street, W.H. Wolberg and O.L. Mangasarian. Nuclear feature extraction \n",
      "     for breast tumor diagnosis. IS&T/SPIE 1993 International Symposium on \n",
      "     Electronic Imaging: Science and Technology, volume 1905, pages 861-870,\n",
      "     San Jose, CA, 1993.\n",
      "   - O.L. Mangasarian, W.N. Street and W.H. Wolberg. Breast cancer diagnosis and \n",
      "     prognosis via linear programming. Operations Research, 43(4), pages 570-577, \n",
      "     July-August 1995.\n",
      "   - W.H. Wolberg, W.N. Street, and O.L. Mangasarian. Machine learning techniques\n",
      "     to diagnose breast cancer from fine-needle aspirates. Cancer Letters 77 (1994) \n",
      "     163-171.\n",
      "\n"
     ]
    }
   ],
   "source": [
    "from sklearn.datasets import load_breast_cancer\n",
    "from sklearn.tree import DecisionTreeClassifier\n",
    "from sklearn.linear_model import LogisticRegression\n",
    "from sklearn import metrics\n",
    "from sklearn.model_selection import cross_val_score\n",
    "from sklearn.model_selection import train_test_split\n",
    "\n",
    "breast_cancer = load_breast_cancer()\n",
    "# DESCR attribute of the dataset provides a high-level description of the data:\n",
    "print(breast_cancer.DESCR)"
   ]
  },
  {
   "cell_type": "markdown",
   "metadata": {},
   "source": [
    "Extract feature vectors and target; split into training and testing. ** Uncomment appropriate lines below. **"
   ]
  },
  {
   "cell_type": "code",
   "execution_count": 38,
   "metadata": {},
   "outputs": [
    {
     "name": "stderr",
     "output_type": "stream",
     "text": [
      "C:\\Users\\micha\\Anaconda3\\lib\\site-packages\\sklearn\\model_selection\\_split.py:2026: FutureWarning: From version 0.21, test_size will always complement train_size unless both are specified.\n",
      "  FutureWarning)\n"
     ]
    }
   ],
   "source": [
    "X_BC = breast_cancer.data\n",
    "y_BC = breast_cancer.target\n",
    "\n",
    "# Set randomness so that we all get the same answer\n",
    "np.random.seed(841)\n",
    "\n",
    "# Split the data into train and test pieces for both X and Y\n",
    "X_train, X_test, y_train, y_test = train_test_split(X_BC, y_BC, train_size=0.80)"
   ]
  },
  {
   "cell_type": "markdown",
   "metadata": {},
   "source": [
    "Fit the Decision Tree classifier with the maximum deapth of 2 and compute model performence on training and testing. **Uncomment appropriate lines below to see the result.**"
   ]
  },
  {
   "cell_type": "code",
   "execution_count": 39,
   "metadata": {},
   "outputs": [
    {
     "name": "stdout",
     "output_type": "stream",
     "text": [
      "Accuracy on training = 0.9604\n",
      "Accuracy on test = 0.9123\n"
     ]
    }
   ],
   "source": [
    "tree_clf2 = DecisionTreeClassifier(max_depth=2, random_state=42)\n",
    "tree_clf2.fit(X_train, y_train)\n",
    "\n",
    "print ( \"Accuracy on training = %.4f\" % metrics.accuracy_score(tree_clf2.predict(X_train), y_train) )\n",
    "print ( \"Accuracy on test = %.4f\" % metrics.accuracy_score(tree_clf2.predict(X_test), y_test) )"
   ]
  },
  {
   "cell_type": "markdown",
   "metadata": {},
   "source": [
    "### Question (a)\n",
    "** In the code block below, fit a Decision Tree classifier with the maximum depth of 3.**"
   ]
  },
  {
   "cell_type": "code",
   "execution_count": 40,
   "metadata": {},
   "outputs": [
    {
     "name": "stdout",
     "output_type": "stream",
     "text": [
      "Accuracy on training = 0.9780\n",
      "Accuracy on test = 0.9211\n"
     ]
    }
   ],
   "source": [
    "tree_clf2 = DecisionTreeClassifier(max_depth=3, random_state=42)\n",
    "tree_clf2.fit(X_train, y_train)\n",
    "\n",
    "print ( \"Accuracy on training = %.4f\" % metrics.accuracy_score(tree_clf2.predict(X_train), y_train) )\n",
    "print ( \"Accuracy on test = %.4f\" % metrics.accuracy_score(tree_clf2.predict(X_test), y_test) )"
   ]
  },
  {
   "cell_type": "markdown",
   "metadata": {},
   "source": [
    "** Comment on the performance of the two decision tree models. Is there evidence of over-fitting? Has the over-fitting problem become worse from increasing the maximum depth of decision tree? Why or why not (explain)? **\n",
    "\n",
    "---"
   ]
  },
  {
   "cell_type": "markdown",
   "metadata": {},
   "source": [
    "The 3-level decision tree model resulted in higher model accuracy for both the test and training data. Notably, the training data accuracy is slightly higher than the test data accuracy for both models, which is to be expected. \n",
    "\n",
    "There does not seem to be evidence of overfitting yet. This is because increasing the maximum depth from 2 to 3 resulted in an increase in accuracy on the testing data. Overfitting would only begin to occur if an increase in this depth resulted in a decrease in accuracy on the testing data. This can be expected to happen eventually, since a deeper and deeper tree would at some point result in “memorization” of the training data at the expense of model generalization. However, as noted this point has not been reached at a maximum depth of 3. "
   ]
  },
  {
   "cell_type": "markdown",
   "metadata": {},
   "source": [
    "---\n",
    "### Question (b)\n",
    "** In the code block below, create a Logistic Regression model and compute its performance on the training and testing. The code for creation of the Logistic Regression model is:**\n",
    "\n",
    "`log_reg = LogisticRegression(random_state=42)`\n",
    "\n",
    "`log_reg.fit(X_train, y_train)`"
   ]
  },
  {
   "cell_type": "code",
   "execution_count": 41,
   "metadata": {},
   "outputs": [
    {
     "data": {
      "text/plain": [
       "LogisticRegression(C=1.0, class_weight=None, dual=False, fit_intercept=True,\n",
       "          intercept_scaling=1, max_iter=100, multi_class='ovr', n_jobs=1,\n",
       "          penalty='l2', random_state=42, solver='liblinear', tol=0.0001,\n",
       "          verbose=0, warm_start=False)"
      ]
     },
     "execution_count": 41,
     "metadata": {},
     "output_type": "execute_result"
    }
   ],
   "source": [
    "log_reg = LogisticRegression(random_state=42)\n",
    "log_reg.fit(X_train, y_train)\n"
   ]
  },
  {
   "cell_type": "markdown",
   "metadata": {},
   "source": [
    "---\n",
    "** In the code block below, we compute the cross-validation performance for each maximum Tree depth from 1 to 20. Uncomment appropriate lines in the code to see the results. **"
   ]
  },
  {
   "cell_type": "code",
   "execution_count": 42,
   "metadata": {},
   "outputs": [
    {
     "data": {
      "text/plain": [
       "<matplotlib.legend.Legend at 0x24751f58400>"
      ]
     },
     "execution_count": 42,
     "metadata": {},
     "output_type": "execute_result"
    },
    {
     "data": {
      "image/png": "[encoded data removed]",
      "text/plain": [
       "<matplotlib.figure.Figure at 0x24751f13e80>"
      ]
     },
     "metadata": {},
     "output_type": "display_data"
    }
   ],
   "source": [
    "# Lists to store results\n",
    "accuracies_CV_mean = []\n",
    "accuracies_CV_std = []\n",
    "\n",
    "# Depth values\n",
    "depths = range(1, 21)\n",
    "\n",
    "# Loop over depth values\n",
    "for md in depths:\n",
    "    model_DT = DecisionTreeClassifier(max_depth = md)    \n",
    "    scores = cross_val_score(model_DT, X_BC, y_BC, cv = 20)\n",
    "    accuracies_CV_mean.append(np.mean(scores))\n",
    "    accuracies_CV_std.append(np.std(scores))\n",
    "\n",
    "# Plot the Mean and Mean+/-Std\n",
    "plt.plot(depths, accuracies_CV_mean, \"r-\", label=\"CV Mean\")\n",
    "plt.plot(depths, np.array(accuracies_CV_mean) + 2.093 * np.array(accuracies_CV_std) / np.sqrt(20), \"k--\", label=\"CV Mean CI Upper\")\n",
    "plt.plot(depths, np.array(accuracies_CV_mean) - 2.093 * np.array(accuracies_CV_std) / np.sqrt(20), \"k--\", label=\"CV Mean CI Lower\")\n",
    "plt.xlabel(\"Max depth\")\n",
    "plt.ylabel(\"Accuracy\")\n",
    "plt.legend()\n"
   ]
  },
  {
   "cell_type": "markdown",
   "metadata": {},
   "source": [
    "### Question (c)\n",
    "** What is this type of graph called? What is represented by the accuracy values in this plot? What maximum depth would you select based on this plot and why?**\n",
    "\n",
    "Enter your answer in the markdown cell below:\n",
    "\n",
    "---"
   ]
  },
  {
   "cell_type": "markdown",
   "metadata": {},
   "source": [
    "This graph is called a fitting graph. \n",
    "\n",
    "The accuracy values in the graph represent the total number of correctly classified instances, divided by the total number of instances. Hence, it also equals (1 - error rate). \n",
    "\n",
    "The maximum depth we would choose is 6 levels, for two reasons. First, the mean accuracy of all holdout sets used in cross-validation is highest at this depth, or at least very close to the highest when compared to a maximum depth of 18. However, a depth of 6 resulted in far lower accuracy variance across the holdout sets, meaning that generalization performance would likely be far more consistent. Therefore, a depth of 6 seems to be optimal."
   ]
  },
  {
   "cell_type": "markdown",
   "metadata": {},
   "source": [
    "---\n",
    "### Question (d)\n",
    "** Implement cross-validation accuracy assessment for the logistic regression model in the code block below. (NOTE: Do not need to vary model complexity.)**"
   ]
  },
  {
   "cell_type": "code",
   "execution_count": 81,
   "metadata": {},
   "outputs": [
    {
     "data": {
      "text/plain": [
       "<matplotlib.legend.Legend at 0x247509f04e0>"
      ]
     },
     "execution_count": 81,
     "metadata": {},
     "output_type": "execute_result"
    },
    {
     "data": {
      "image/png": "[encoded data removed]",
      "text/plain": [
       "<matplotlib.figure.Figure at 0x24752182668>"
      ]
     },
     "metadata": {},
     "output_type": "display_data"
    }
   ],
   "source": [
    "#specify number of cross validation bins\n",
    "numCVBins = 10\n",
    "#create array specifing bin number\n",
    "valuesXArray = [x for x in range(1, numCVBins + 1)]\n",
    "\n",
    "#discover cross-validation scores\n",
    "log_reg_Second = LogisticRegression(random_state=42)    \n",
    "scores = cross_val_score(log_reg_Second, X_BC, y_BC, cv = numCVBins)\n",
    "means = np.mean(scores)\n",
    "\n",
    "# Plot the results in bar graph (x, y, width, color)\n",
    "plt.bar(valuesXArray, scores)\n",
    "plt.axhline(y=means, color='r', linestyle='-', label=\"Mean Score\")\n",
    "plt.ylabel(\"Accuracy\")\n",
    "plt.legend(loc=(1.04,0))"
   ]
  },
  {
   "cell_type": "markdown",
   "metadata": {},
   "source": [
    "** Compare the logistic regression accuracy to that of your best Decision Tree model. Would you prefer a Decision Tree model or a Logistic Regression model? Consider and discuss accuracy, usability, and interpretability for potential stakeholders. **\n",
    "\n",
    "---"
   ]
  },
  {
   "cell_type": "markdown",
   "metadata": {},
   "source": [
    "We would prefer the logistic regression model rather than our best decision tree model (which had a depth of 6). First and foremost, the logistic regression model is more accurate: its mean cross validation accuracy was 0.951, compared to approximately 0.935 for the decision tree model. While an increase of ~1.6% may not seem that large, it is actually quite substantial given that this model will be used for Breast Cancer detection. Given this context, even a small increase in performance has the potential to save lives. The variance in cross validation performance also appeared lower for the logistic regression model, as can be noted on the graph above, meaning that generalization performance will likely be more predictable. \n",
    "\n",
    "In terms of usability, our data set is relatively small, at only 569 data points. For smaller data sets, logistic regression models tend to perform better than decision trees, further supporting that the former model type is superior. \n",
    "\n",
    "One potential issue with using a logistic regression model is interpretability by stakeholders. Due to their simplicity, tree-based models are easier to understand, especially by those without statistical or mathematical backgrounds. This is important given the medical context of this model, because it will be doctors and/or patients making final decisions, not data scientists. However, we believe that the higher accuracy of the logistic regression model more than justifies this risk given the high-stakes medical context. \n"
   ]
  },
  {
   "cell_type": "code",
   "execution_count": 84,
   "metadata": {},
   "outputs": [
    {
     "name": "stdout",
     "output_type": "stream",
     "text": [
      " END  END  END  END  END  END  END  END  END  END  END  END  END  END  END  END  END  END  END  END  END  END  END  END  END  END  END  END  END  END  END  END  END  END  END  END  END  END  END  END  END  END  END  END  END  END  END  END  END  END  END  END  END  END  END  END  END  END  END  END  END  END  END  END  END  END  END  END  END  END  END  END  END  END  END  END  END  END  END  END  END  END  END  END  END  END  END  END  END  END  END  END  END  END  END  END  END  END  END  END \n"
     ]
    }
   ],
   "source": [
    "l = \" END \" * 100\n",
    "print(l)"
   ]
  },
  {
   "cell_type": "code",
   "execution_count": null,
   "metadata": {
    "collapsed": true
   },
   "outputs": [],
   "source": []
  }
 ],
 "metadata": {
  "kernelspec": {
   "display_name": "Python 3",
   "language": "python",
   "name": "python3"
  },
  "language_info": {
   "codemirror_mode": {
    "name": "ipython",
    "version": 3
   },
   "file_extension": ".py",
   "mimetype": "text/x-python",
   "name": "python",
   "nbconvert_exporter": "python",
   "pygments_lexer": "ipython3",
   "version": "3.6.3"
  }
 },
 "nbformat": 4,
 "nbformat_minor": 2
}
