{
 "cells": [
  {
   "cell_type": "code",
   "execution_count": null,
   "metadata": {
    "collapsed": true
   },
   "outputs": [],
   "source": [
    " Aidan Horvath 10132966 | Michael Krakovsky 10134030 | David Aquino 10134911 | Abhit Sahota 10147351"
   ]
  },
  {
   "cell_type": "code",
   "execution_count": 8,
   "metadata": {
    "collapsed": true
   },
   "outputs": [],
   "source": [
    "import pandas as pd\n",
    "import numpy as np\n",
    "import matplotlib.pylab as plt\n",
    "%matplotlib inline"
   ]
  },
  {
   "cell_type": "markdown",
   "metadata": {},
   "source": [
    "# Assignment 3\n",
    "\n",
    "## Problem 1: Clustering\n",
    "In this part of the assignment we look at [Hierarchical Cluster Analysis (HCA)](https://docs.scipy.org/doc/scipy/reference/cluster.hierarchy.html#module-scipy.cluster.hierarchy) clustering using scipy.\n",
    "\n",
    "For reference, [sklearn](http://scikit-learn.org/stable/modules/clustering.html) can be used for many of the other clustering approaches discussed in class.\n",
    "\n",
    "In chapter 6 of Data Science for Business, the author performs cluster analysis on a [whiskey dataset](http://adn.biol.umontreal.ca/~numericalecology/data/scotch.html).\n",
    "\n",
    "First, lets import this dataset, drop a few features, and take a look."
   ]
  },
  {
   "cell_type": "code",
   "execution_count": 3,
   "metadata": {
    "collapsed": true
   },
   "outputs": [],
   "source": [
    "whiskey = pd.read_csv(\"data/scotch.csv\")\n",
    "\n",
    "whiskey = whiskey.drop([u'age', u'dist', u'score', u'percent', u'region', u'district', u'islay', u'midland', u'spey', u'east', u'west', u'north ', u'lowland', u'campbell', u'islands'], axis=1)"
   ]
  },
  {
   "cell_type": "code",
   "execution_count": 4,
   "metadata": {},
   "outputs": [
    {
     "data": {
      "text/html": [
       "<div>\n",
       "<style>\n",
       "    .dataframe thead tr:only-child th {\n",
       "        text-align: right;\n",
       "    }\n",
       "\n",
       "    .dataframe thead th {\n",
       "        text-align: left;\n",
       "    }\n",
       "\n",
       "    .dataframe tbody tr th {\n",
       "        vertical-align: top;\n",
       "    }\n",
       "</style>\n",
       "<table border=\"1\" class=\"dataframe\">\n",
       "  <thead>\n",
       "    <tr style=\"text-align: right;\">\n",
       "      <th></th>\n",
       "      <th>color.wyne</th>\n",
       "      <th>color.yellow</th>\n",
       "      <th>color.v.pale</th>\n",
       "      <th>color.pale</th>\n",
       "      <th>color.p.gold</th>\n",
       "      <th>color.gold</th>\n",
       "      <th>color.o.gold</th>\n",
       "      <th>color.f.gold</th>\n",
       "      <th>color.bronze</th>\n",
       "      <th>color.p.amber</th>\n",
       "      <th>...</th>\n",
       "      <th>fin.smoke</th>\n",
       "      <th>fin.sweet</th>\n",
       "      <th>fin.spice</th>\n",
       "      <th>fin.oil</th>\n",
       "      <th>fin.salt</th>\n",
       "      <th>fin.arome</th>\n",
       "      <th>fin.ling</th>\n",
       "      <th>fin.long</th>\n",
       "      <th>fin.very</th>\n",
       "      <th>fin.quick</th>\n",
       "    </tr>\n",
       "  </thead>\n",
       "  <tbody>\n",
       "    <tr>\n",
       "      <th>Aberfeldy</th>\n",
       "      <td>0</td>\n",
       "      <td>1</td>\n",
       "      <td>0</td>\n",
       "      <td>0</td>\n",
       "      <td>0</td>\n",
       "      <td>0</td>\n",
       "      <td>0</td>\n",
       "      <td>0</td>\n",
       "      <td>0</td>\n",
       "      <td>0</td>\n",
       "      <td>...</td>\n",
       "      <td>0</td>\n",
       "      <td>0</td>\n",
       "      <td>1</td>\n",
       "      <td>0</td>\n",
       "      <td>0</td>\n",
       "      <td>0</td>\n",
       "      <td>0</td>\n",
       "      <td>0</td>\n",
       "      <td>0</td>\n",
       "      <td>0</td>\n",
       "    </tr>\n",
       "    <tr>\n",
       "      <th>Aberlour</th>\n",
       "      <td>0</td>\n",
       "      <td>0</td>\n",
       "      <td>0</td>\n",
       "      <td>0</td>\n",
       "      <td>0</td>\n",
       "      <td>0</td>\n",
       "      <td>0</td>\n",
       "      <td>0</td>\n",
       "      <td>0</td>\n",
       "      <td>0</td>\n",
       "      <td>...</td>\n",
       "      <td>0</td>\n",
       "      <td>0</td>\n",
       "      <td>0</td>\n",
       "      <td>0</td>\n",
       "      <td>0</td>\n",
       "      <td>0</td>\n",
       "      <td>1</td>\n",
       "      <td>0</td>\n",
       "      <td>0</td>\n",
       "      <td>0</td>\n",
       "    </tr>\n",
       "    <tr>\n",
       "      <th>Ardberg</th>\n",
       "      <td>0</td>\n",
       "      <td>0</td>\n",
       "      <td>0</td>\n",
       "      <td>0</td>\n",
       "      <td>0</td>\n",
       "      <td>0</td>\n",
       "      <td>0</td>\n",
       "      <td>0</td>\n",
       "      <td>0</td>\n",
       "      <td>0</td>\n",
       "      <td>...</td>\n",
       "      <td>0</td>\n",
       "      <td>0</td>\n",
       "      <td>0</td>\n",
       "      <td>0</td>\n",
       "      <td>1</td>\n",
       "      <td>0</td>\n",
       "      <td>0</td>\n",
       "      <td>0</td>\n",
       "      <td>0</td>\n",
       "      <td>0</td>\n",
       "    </tr>\n",
       "    <tr>\n",
       "      <th>Ardmore</th>\n",
       "      <td>0</td>\n",
       "      <td>0</td>\n",
       "      <td>0</td>\n",
       "      <td>0</td>\n",
       "      <td>1</td>\n",
       "      <td>0</td>\n",
       "      <td>0</td>\n",
       "      <td>0</td>\n",
       "      <td>0</td>\n",
       "      <td>0</td>\n",
       "      <td>...</td>\n",
       "      <td>0</td>\n",
       "      <td>0</td>\n",
       "      <td>0</td>\n",
       "      <td>0</td>\n",
       "      <td>0</td>\n",
       "      <td>0</td>\n",
       "      <td>0</td>\n",
       "      <td>0</td>\n",
       "      <td>0</td>\n",
       "      <td>0</td>\n",
       "    </tr>\n",
       "    <tr>\n",
       "      <th>Auchentoshan</th>\n",
       "      <td>0</td>\n",
       "      <td>0</td>\n",
       "      <td>0</td>\n",
       "      <td>0</td>\n",
       "      <td>1</td>\n",
       "      <td>0</td>\n",
       "      <td>0</td>\n",
       "      <td>0</td>\n",
       "      <td>0</td>\n",
       "      <td>0</td>\n",
       "      <td>...</td>\n",
       "      <td>0</td>\n",
       "      <td>0</td>\n",
       "      <td>1</td>\n",
       "      <td>0</td>\n",
       "      <td>0</td>\n",
       "      <td>0</td>\n",
       "      <td>0</td>\n",
       "      <td>0</td>\n",
       "      <td>0</td>\n",
       "      <td>0</td>\n",
       "    </tr>\n",
       "  </tbody>\n",
       "</table>\n",
       "<p>5 rows × 68 columns</p>\n",
       "</div>"
      ],
      "text/plain": [
       "              color.wyne  color.yellow  color.v.pale  color.pale  \\\n",
       "Aberfeldy              0             1             0           0   \n",
       "Aberlour               0             0             0           0   \n",
       "Ardberg                0             0             0           0   \n",
       "Ardmore                0             0             0           0   \n",
       "Auchentoshan           0             0             0           0   \n",
       "\n",
       "              color.p.gold  color.gold  color.o.gold  color.f.gold  \\\n",
       "Aberfeldy                0           0             0             0   \n",
       "Aberlour                 0           0             0             0   \n",
       "Ardberg                  0           0             0             0   \n",
       "Ardmore                  1           0             0             0   \n",
       "Auchentoshan             1           0             0             0   \n",
       "\n",
       "              color.bronze  color.p.amber    ...      fin.smoke  fin.sweet  \\\n",
       "Aberfeldy                0              0    ...              0          0   \n",
       "Aberlour                 0              0    ...              0          0   \n",
       "Ardberg                  0              0    ...              0          0   \n",
       "Ardmore                  0              0    ...              0          0   \n",
       "Auchentoshan             0              0    ...              0          0   \n",
       "\n",
       "              fin.spice  fin.oil  fin.salt  fin.arome  fin.ling  fin.long  \\\n",
       "Aberfeldy             1        0         0          0         0         0   \n",
       "Aberlour              0        0         0          0         1         0   \n",
       "Ardberg               0        0         1          0         0         0   \n",
       "Ardmore               0        0         0          0         0         0   \n",
       "Auchentoshan          1        0         0          0         0         0   \n",
       "\n",
       "              fin.very  fin.quick  \n",
       "Aberfeldy            0          0  \n",
       "Aberlour             0          0  \n",
       "Ardberg              0          0  \n",
       "Ardmore              0          0  \n",
       "Auchentoshan         0          0  \n",
       "\n",
       "[5 rows x 68 columns]"
      ]
     },
     "execution_count": 4,
     "metadata": {},
     "output_type": "execute_result"
    }
   ],
   "source": [
    "whiskey.head()"
   ]
  },
  {
   "cell_type": "code",
   "execution_count": 5,
   "metadata": {},
   "outputs": [
    {
     "data": {
      "text/plain": [
       "array(['color.wyne', 'color.yellow', 'color.v.pale', 'color.pale',\n",
       "       'color.p.gold', 'color.gold', 'color.o.gold', 'color.f.gold',\n",
       "       'color.bronze', 'color.p.amber', 'color.amber', 'color.f.amber',\n",
       "       'color.red', 'color.sherry', 'nose.aroma', 'nose.peat',\n",
       "       'nose.sweet', 'nose.light', 'nose.fresh', 'nose.dry', 'nose.fruit',\n",
       "       'nose.grass', 'nose.sea', 'nose.sherry', 'nose.spicy', 'nose.rich',\n",
       "       'body.soft', 'body.med', 'body.full', 'body.round', 'body.smooth',\n",
       "       'body.light', 'body.firm', 'body.oily', 'pal.full', 'pal.dry',\n",
       "       'pal.sherry', 'pal.big', 'pal.light', 'pal.smooth', 'pal.clean',\n",
       "       'pal.fruit', 'pal.grass', 'pal.smoke', 'pal.sweet', 'pal.spice',\n",
       "       'pal.oil', 'pal.salt', 'pal.arome', 'fin.full', 'fin.dry',\n",
       "       'fin.warm', 'fin.big', 'fin.light', 'fin.smooth', 'fin.clean',\n",
       "       'fin.fruit', 'fin.grass', 'fin.smoke', 'fin.sweet', 'fin.spice',\n",
       "       'fin.oil', 'fin.salt', 'fin.arome', 'fin.ling', 'fin.long',\n",
       "       'fin.very', 'fin.quick'], dtype=object)"
      ]
     },
     "execution_count": 5,
     "metadata": {},
     "output_type": "execute_result"
    }
   ],
   "source": [
    "whiskey.columns.values"
   ]
  },
  {
   "cell_type": "markdown",
   "metadata": {},
   "source": [
    "We see that our dataset is composed of categorical features describing the Colour, Nose, Body, Palate, and Finish of each whiskey. Each row of data is refered to as the feature vector which describes the whiskey. In this case, each whiskey has a feature vector of 68 attributes.\n",
    "\n",
    "The next step is determining how to measure similarity between feature vectors. \n",
    "\n",
    "** Question 1**  \n",
    "In class, we learned about various distance functions used to calculate similarity (euclidean, manhattan, jaccard, cosine). According to you, which distance function is the most appropriate to this dataset and why?\n",
    "\n",
    "---"
   ]
  },
  {
   "cell_type": "markdown",
   "metadata": {},
   "source": [
    "Question One:\n",
    "\n",
    "Since we are comparing whisky brands based on multiple product descriptors, the Jaccard Distance is most appropriate because it requires the use of the Jaccard similarity, which is able to incorporate multiple descriptors relatively easily. The Jaccard similarity is calculated by finding the size of both the intersection and union between characteristics shared by both data sets. This is appropriate for the whisky problem because identifying common characteristics between the two sets is important, but dissimilarity between the two is not. For example, in finding similar whiskeys it is significant if two whiskeys are both full, but it may not be significant that they are both not sweet. Furthermore, Jaccard distance works well for binary sets such as the data provided here. For example, a whiskey is either sweet or not sweet; no degree of sweetness is given. \n",
    "\n",
    "While the other distance measures can also be used to determine similarity, they were deemed inappropriate for the following reasons: \n",
    "\n",
    "Euclidean distance: Unlike Jaccard distance, Euclidean distance penalizes two whiskeys for having two dissimilar characteristics. As noted, we see this as less relevant here, since any whiskey drinker would be more concerned with finding common characteristics, and less concerned with how dissimilar two uncommon characteristics are. \n",
    "\n",
    "Manhattan distance: Like Euclidean distance, Manhattan distance penalizes whiskeys for having dissimilar characteristics, instead of merely rewarding whiskeys for having the same characteristics. Furthermore, Manhattan distance calculates distance along purely vertical or horizontal lines in the xy plane. This is not appropriate for a problem such as this. \n",
    "\n",
    "Cosine similarity: Cosine similarity is generally used when characteristics are non-binary, which is not the case for the whiskey data. For example, as noted above a given whiskey is either sweet or not sweet; no degree of sweetness is given. Hence, Jaccard distance was used. "
   ]
  },
  {
   "cell_type": "markdown",
   "metadata": {},
   "source": [
    "---\n",
    "Suppose you are interested in finding whiskeys that are similar to Highland Park.\n",
    "\n",
    "** Question 2 **  \n",
    "The code below calculates the euclidean distance between Highland Park and other whiskeys and returns the closest 10 whiskeys. Perform the same analysis using at least [one other distance function](https://docs.scipy.org/doc/scipy/reference/spatial.distance.html)."
   ]
  },
  {
   "cell_type": "code",
   "execution_count": 102,
   "metadata": {},
   "outputs": [
    {
     "data": {
      "text/html": [
       "<div>\n",
       "<style>\n",
       "    .dataframe thead tr:only-child th {\n",
       "        text-align: right;\n",
       "    }\n",
       "\n",
       "    .dataframe thead th {\n",
       "        text-align: left;\n",
       "    }\n",
       "\n",
       "    .dataframe tbody tr th {\n",
       "        vertical-align: top;\n",
       "    }\n",
       "</style>\n",
       "<table border=\"1\" class=\"dataframe\">\n",
       "  <thead>\n",
       "    <tr style=\"text-align: right;\">\n",
       "      <th></th>\n",
       "      <th>euc_name</th>\n",
       "      <th>euc_score</th>\n",
       "    </tr>\n",
       "  </thead>\n",
       "  <tbody>\n",
       "    <tr>\n",
       "      <th>0</th>\n",
       "      <td>Highland Park</td>\n",
       "      <td>0.000000</td>\n",
       "    </tr>\n",
       "    <tr>\n",
       "      <th>1</th>\n",
       "      <td>North Port</td>\n",
       "      <td>3.162278</td>\n",
       "    </tr>\n",
       "    <tr>\n",
       "      <th>2</th>\n",
       "      <td>Glendronach</td>\n",
       "      <td>3.162278</td>\n",
       "    </tr>\n",
       "    <tr>\n",
       "      <th>3</th>\n",
       "      <td>Balmenach</td>\n",
       "      <td>3.162278</td>\n",
       "    </tr>\n",
       "    <tr>\n",
       "      <th>4</th>\n",
       "      <td>Balvenie</td>\n",
       "      <td>3.162278</td>\n",
       "    </tr>\n",
       "    <tr>\n",
       "      <th>5</th>\n",
       "      <td>Lochside</td>\n",
       "      <td>3.162278</td>\n",
       "    </tr>\n",
       "    <tr>\n",
       "      <th>6</th>\n",
       "      <td>Glen  Albyn</td>\n",
       "      <td>3.316625</td>\n",
       "    </tr>\n",
       "    <tr>\n",
       "      <th>7</th>\n",
       "      <td>Saint Magdalene</td>\n",
       "      <td>3.316625</td>\n",
       "    </tr>\n",
       "    <tr>\n",
       "      <th>8</th>\n",
       "      <td>Glendullan</td>\n",
       "      <td>3.316625</td>\n",
       "    </tr>\n",
       "    <tr>\n",
       "      <th>9</th>\n",
       "      <td>Glenfarclas</td>\n",
       "      <td>3.316625</td>\n",
       "    </tr>\n",
       "  </tbody>\n",
       "</table>\n",
       "</div>"
      ],
      "text/plain": [
       "          euc_name  euc_score\n",
       "0    Highland Park   0.000000\n",
       "1       North Port   3.162278\n",
       "2      Glendronach   3.162278\n",
       "3        Balmenach   3.162278\n",
       "4         Balvenie   3.162278\n",
       "5         Lochside   3.162278\n",
       "6      Glen  Albyn   3.316625\n",
       "7  Saint Magdalene   3.316625\n",
       "8       Glendullan   3.316625\n",
       "9      Glenfarclas   3.316625"
      ]
     },
     "execution_count": 102,
     "metadata": {},
     "output_type": "execute_result"
    }
   ],
   "source": [
    "from scipy.spatial import distance\n",
    "from scipy.spatial.distance import pdist, squareform\n",
    "\n",
    "distances = pd.DataFrame()\n",
    "highland_loc = np.where(whiskey.index == 'Highland Park')[0][0]\n",
    "\n",
    "euclidean_distances = distance.squareform(distance.pdist(whiskey, 'euclidean'))\n",
    "euclidean_closest = np.argsort(euclidean_distances[:, highland_loc])\n",
    "distances['euc_name'] = whiskey.index[euclidean_closest]\n",
    "distances['euc_score'] = euclidean_distances[euclidean_closest, highland_loc]\n",
    "\n",
    "distances.head(10)"
   ]
  },
  {
   "cell_type": "code",
   "execution_count": 103,
   "metadata": {},
   "outputs": [
    {
     "name": "stdout",
     "output_type": "stream",
     "text": [
      "[(0.16176470588235292, 'Craigellachie'), (0.16176470588235292, 'Glen  Albyn'), (0.16176470588235292, 'Glendullan'), (0.16176470588235292, 'Glenfarclas'), (0.16176470588235292, 'Littlemill'), (0.1470588235294118, 'Balmenach'), (0.1470588235294118, 'Balvenie'), (0.1470588235294118, 'Glendronach'), (0.1470588235294118, 'Lochside'), (0.1470588235294118, 'North Port')]\n"
     ]
    }
   ],
   "source": [
    "from sklearn.metrics import jaccard_similarity_score   \n",
    "\n",
    "highland_loc = np.where(whiskey.index == 'Highland Park')[0][0]  # Find where the Highland Park row\n",
    "\n",
    "# Find the Jaccard Similarities and place everything in an array\n",
    "jaccardSimilarities = []\n",
    "for index, row in whiskey.iterrows(): \n",
    "    if (index != 'Highland Park'):\n",
    "        jaccardSimilarities.append(((jaccard_similarity_score(whiskey.iloc[highland_loc], row)), index))\n",
    "\n",
    "# Find the top 10 similarities within the array\n",
    "distance = [(0, 0) for x in range (0, 10)]\n",
    "\n",
    "for i in jaccardSimilarities:\n",
    "    if i[0] > distance[0][0]:\n",
    "        distance[0] = i\n",
    "        distance.sort()\n",
    "\n",
    "# Calculate the distance of the whiskies with the highest similarities\n",
    "jaccardDistances = []\n",
    "for i in distance:\n",
    "    newElement = (1 - i[0], i[1])\n",
    "    jaccardDistances.append(newElement)\n",
    "    \n",
    "# Display the results from the 10th closest to the closest (the last element)\n",
    "print(jaccardDistances) "
   ]
  },
  {
   "cell_type": "markdown",
   "metadata": {},
   "source": [
    "Suppose you now want to categorize the whiskeys based on how similar they are to each other. You can use scipy's hierarchical/agglomerative clustering to build a dendrogram."
   ]
  },
  {
   "cell_type": "code",
   "execution_count": 7,
   "metadata": {},
   "outputs": [
    {
     "data": {
      "image/png": "[encoded data removed]",
      "text/plain": [
       "<matplotlib.figure.Figure at 0xa252780>"
      ]
     },
     "metadata": {},
     "output_type": "display_data"
    }
   ],
   "source": [
    "from scipy.cluster.hierarchy import linkage, dendrogram\n",
    "\n",
    "# This function gets pairwise distances between observations in n-dimensional space.\n",
    "dists = pdist(whiskey, metric=\"euclidean\")\n",
    "\n",
    "# This scipy's function performs hierarchical/agglomerative clustering on the condensed distance matrix y.\n",
    "links = linkage(dists, method='average')\n",
    "\n",
    "# Now we want to plot those 'links' using \"dendrogram\" function\n",
    "plt.rcParams['figure.figsize'] = 32, 16\n",
    "\n",
    "den = dendrogram(links)\n",
    "\n",
    "plt.xlabel('Samples',fontsize=18)\n",
    "plt.ylabel('Distance',fontsize=18)\n",
    "plt.xticks(rotation=90,fontsize=16)\n",
    "plt.show()"
   ]
  },
  {
   "cell_type": "markdown",
   "metadata": {},
   "source": [
    "** Question 3 **  \n",
    "Discuss some insights you can decipher from this dendrogram.\n",
    "\n",
    "---"
   ]
  },
  {
   "cell_type": "markdown",
   "metadata": {},
   "source": [
    "Question Three:\n",
    "A dendrogram is a tree diagram that represents how elements are arranged by hierarchical clustering. The more similar two Whiskey groups are together, the more likely they will be paired at the lower levels of the hierarchical clusters. Therefore, using this knowledge, the method builds the hierarchy from the individual elements by progressively merging the clusters. The closest elements are merged at the beginning while unique elements are merged later within the process. Based on this knowledge, certain insights can be gained from the dendogram supplied: \n",
    "\n",
    "First, insights can be made about the least, and most, similar whiskey pairs. Element 30 within the whiskey cluster group is the most unique since it was merged at the end of the algorithm. Contrastingly, whiskeys 48 and 58 are the most similar since the distance between them appears to be the lowest compared to any other pair. \n",
    "\n",
    "Next, the structure of the dendrogram can be used to cluster certain whiskeys together in groups, by setting a desired distance cutoff level. This would be useful for business functions such as advertising, product placement in certain geographic locations vs. others, and potentially pricing. The optimal cutoff level would vary depending on a variety of factors. For example, the desired cluster size may vary depending on the firm’s ability to market whiskeys directly to specific consumers (supporting smaller cluster sizes) or in aggregate (supporting larger cluster sizes). With that being said, it seems that a cluster cut-off distance between 3 and 4 makes the most sense. Anything lower would essentially result in many single-whiskey clusters, while anything higher would likely be too broad and would merely separate outliers from the rest of the set. \n"
   ]
  },
  {
   "cell_type": "markdown",
   "metadata": {},
   "source": [
    "---\n",
    "## Problem 2: Ensemble Learning\n",
    "\n",
    "In this part of the assignment, we look at [Ensemble Methods with sklearn](http://scikit-learn.org/stable/modules/ensemble.html). Specifically, we use [Forests of randomized trees](http://scikit-learn.org/stable/modules/ensemble.html#forest), [Gradient Tree Boosting](http://scikit-learn.org/stable/modules/ensemble.html#gradient-boosting)\n",
    "\n",
    "### Classifiction using Forest of Randomized Trees\n",
    "\n",
    "The code below trains a `RandomForestClassifier` on the iris dataset."
   ]
  },
  {
   "cell_type": "code",
   "execution_count": 8,
   "metadata": {},
   "outputs": [
    {
     "name": "stdout",
     "output_type": "stream",
     "text": [
      "RandomForestClassifier 0.96\n"
     ]
    }
   ],
   "source": [
    "from sklearn.datasets import load_iris\n",
    "from sklearn.model_selection import train_test_split\n",
    "from sklearn.ensemble import RandomForestClassifier\n",
    "from sklearn.metrics import accuracy_score\n",
    "\n",
    "iris = load_iris()\n",
    "X_train, X_test, y_train, y_test = train_test_split(iris[\"data\"], iris[\"target\"], test_size=0.33, random_state=15)\n",
    "\n",
    "rnd_clf = RandomForestClassifier(n_estimators=500, n_jobs=-1)\n",
    "rnd_clf.fit(X_train,y_train)\n",
    "rnd_pred = rnd_clf.predict(X_test)\n",
    "\n",
    "print(rnd_clf.__class__.__name__, accuracy_score(y_test, rnd_pred))"
   ]
  },
  {
   "cell_type": "markdown",
   "metadata": {},
   "source": [
    "If you look at a single Decision Tree, important features are likely to appear closer to the root of the tree, while unimportant features will often appear closer to the leaves (or not at all). It is therefore possible to get an estimate of a feature’s importance by computing the average depth at which it appears across all trees in the forest. This can give a quick idea of what features actually matter if you need to perform feature selection"
   ]
  },
  {
   "cell_type": "code",
   "execution_count": 9,
   "metadata": {},
   "outputs": [
    {
     "name": "stdout",
     "output_type": "stream",
     "text": [
      "sepal length (cm) 0.118277896589\n",
      "sepal width (cm) 0.0309929315816\n",
      "petal length (cm) 0.428175097905\n",
      "petal width (cm) 0.422554073924\n"
     ]
    }
   ],
   "source": [
    "for name,score in zip(iris[\"feature_names\"],rnd_clf.feature_importances_):\n",
    "    print(name,score)"
   ]
  },
  {
   "cell_type": "markdown",
   "metadata": {},
   "source": [
    "** Question 4 **  \n",
    "Use the cell below to train a classifier of your choice using only petal length and petal width and compare the accuracy to the one of the Random Forest. (Hint: length and width are the last two columns of the data array.) "
   ]
  },
  {
   "cell_type": "code",
   "execution_count": 10,
   "metadata": {
    "collapsed": true
   },
   "outputs": [],
   "source": [
    "## Your code here"
   ]
  },
  {
   "cell_type": "markdown",
   "metadata": {},
   "source": [
    "### Regression using Gradient Tree Boosting\n",
    "\n",
    "The code below uses `GradientBoostingRegressor` on sample data."
   ]
  },
  {
   "cell_type": "code",
   "execution_count": 11,
   "metadata": {
    "collapsed": true
   },
   "outputs": [],
   "source": [
    "# Data Sampling\n",
    "np.random.seed(42)\n",
    "X = np.random.rand(100, 1) - 0.5\n",
    "y = 10*X[:, 0]**3 + .08 * np.random.randn(100)"
   ]
  },
  {
   "cell_type": "code",
   "execution_count": 12,
   "metadata": {},
   "outputs": [
    {
     "data": {
      "text/plain": [
       "GradientBoostingRegressor(alpha=0.9, criterion='friedman_mse', init=None,\n",
       "             learning_rate=0.1, loss='ls', max_depth=2, max_features=None,\n",
       "             max_leaf_nodes=None, min_impurity_decrease=0.0,\n",
       "             min_impurity_split=None, min_samples_leaf=1,\n",
       "             min_samples_split=2, min_weight_fraction_leaf=0.0,\n",
       "             n_estimators=200, presort='auto', random_state=42,\n",
       "             subsample=1.0, verbose=0, warm_start=False)"
      ]
     },
     "execution_count": 12,
     "metadata": {},
     "output_type": "execute_result"
    }
   ],
   "source": [
    "# Training\n",
    "from sklearn.ensemble import GradientBoostingRegressor\n",
    "\n",
    "gbrt = GradientBoostingRegressor(max_depth=2, n_estimators=3, learning_rate=1.0, random_state=42)\n",
    "gbrt.fit(X, y)\n",
    "\n",
    "gbrt_slow = GradientBoostingRegressor(max_depth=2, n_estimators=200, learning_rate=0.1, random_state=42)\n",
    "gbrt_slow.fit(X, y)"
   ]
  },
  {
   "cell_type": "code",
   "execution_count": 13,
   "metadata": {},
   "outputs": [
    {
     "data": {
      "image/png": "[encoded data removed]",
      "text/plain": [
       "<matplotlib.figure.Figure at 0xa31a048>"
      ]
     },
     "metadata": {},
     "output_type": "display_data"
    }
   ],
   "source": [
    "# Plotting\n",
    "def plot_predictions(regressors, X, y, axes, label=None, style=\"r-\", data_style=\"b.\", data_label=None):\n",
    "    x1 = np.linspace(axes[0], axes[1], 500)\n",
    "    y_pred = sum(regressor.predict(x1.reshape(-1, 1)) for regressor in regressors)\n",
    "    plt.plot(X[:, 0], y, data_style, label=data_label)\n",
    "    plt.plot(x1, y_pred, style, linewidth=2, label=label)\n",
    "    if label or data_label:\n",
    "        plt.legend(loc=\"upper center\", fontsize=16)\n",
    "    plt.axis(axes)\n",
    "    \n",
    "plt.figure(figsize=(11,4))\n",
    "\n",
    "plt.subplot(121)\n",
    "plot_predictions([gbrt], X, y, axes=[-0.5, 0.5, -0.8, 0.8], label=\"Ensemble predictions\")\n",
    "plt.title(\"learning_rate={}, n_estimators={}\".format(gbrt.learning_rate, gbrt.n_estimators), fontsize=14)\n",
    "\n",
    "plt.subplot(122)\n",
    "plot_predictions([gbrt_slow], X, y, axes=[-0.5, 0.5, -0.8, 0.8])\n",
    "plt.title(\"learning_rate={}, n_estimators={}\".format(gbrt_slow.learning_rate, gbrt_slow.n_estimators), fontsize=14)\n",
    "\n",
    "plt.show()"
   ]
  },
  {
   "cell_type": "markdown",
   "metadata": {},
   "source": [
    "As you can see, the model on the left underfits the data and the model on the right overfits the data.\n",
    "\n",
    "** Question 5 **  \n",
    "Which model parameters can you adjust to optimize the fit?\n",
    "\n",
    "---"
   ]
  },
  {
   "cell_type": "markdown",
   "metadata": {},
   "source": [
    "*** Answer Here ***"
   ]
  },
  {
   "cell_type": "markdown",
   "metadata": {},
   "source": [
    "---\n",
    "\n",
    "### Classification using Stacked Generalization\n",
    "\n",
    "In this section, we combine the various ensemble methods learned to create a model stack for classification task.\n",
    "\n",
    "The task is to perform optical character recognition by classifying handwritten numbers from 0 to 9. Here is a sample of our training data from the dataset called MNIST:\n",
    "\n",
    "![numbers](data/numbers.png)\n",
    "\n",
    "The following code loads the MNIST data, and splits it into a training set, a validation set, and a test set."
   ]
  },
  {
   "cell_type": "code",
   "execution_count": 14,
   "metadata": {
    "collapsed": true
   },
   "outputs": [],
   "source": [
    "from sklearn.datasets import fetch_mldata\n",
    "from sklearn.model_selection import train_test_split\n",
    "\n",
    "mnist = fetch_mldata('MNIST original')\n",
    "X,y = mnist[\"data\"], mnist[\"target\"]\n",
    "X_train,X_test,y_train,y_test = train_test_split(X,y,test_size=0.33,random_state=42)"
   ]
  },
  {
   "cell_type": "markdown",
   "metadata": {},
   "source": [
    "** Question 6 **  \n",
    "\n",
    "*Step 1: Build individual ensemble classifiers.*\n",
    "\n",
    "Train a [RandomForestClassifier](http://scikit-learn.org/stable/modules/generated/sklearn.ensemble.RandomForestClassifier.html) and a [GradientBoostingClassifier](http://scikit-learn.org/stable/modules/generated/sklearn.ensemble.GradientBoostingClassifier.html) using `X_train` and `y_train`.\n",
    "\n",
    "Use each of the model to predict the values of `X_test` and calculate the accuracy of against `y_test`.\n",
    "\n",
    "*Step 2: Combine classifiers through model stacking.*\n",
    "\n",
    "Use the classifiers from step 1 to predict againsts their own training data. Combine the two resulting sets of prediction into a new set called `X_train_pred` and train a new `RandomForestClassifier` using the new `X_train_pred`, and previous`y_train` to create a blender.\n",
    "\n",
    "Use this blender to predict `X_test` and compare the accuracy against `y_test` to the accuracy acheived with the individual classifiers in step 1."
   ]
  },
  {
   "cell_type": "code",
   "execution_count": 15,
   "metadata": {
    "collapsed": true
   },
   "outputs": [],
   "source": [
    "## Your code here"
   ]
  },
  {
   "cell_type": "markdown",
   "metadata": {},
   "source": [
    "## Problem 3: Using Neural Networks for Classification\n",
    "In this part, we want to use ANN for the purpose of classification. More specifically, we use a Multi-layer Perceptron to do so.\n",
    "[Scikit Learn](http://scikit-learn.org/stable/modules/neural_networks_supervised.html) has necessary tools to develop such a model. "
   ]
  },
  {
   "cell_type": "markdown",
   "metadata": {},
   "source": [
    "** Question 7 ** \n",
    "Using MNIST data set, develop an ANN classifier with LBFGS solver and $\\alpha = 1e-5$. Use one hidden layer of size 50 and without random state. If a parameter is not mentioned in this description, use the default values.\n",
    "\n",
    "Use the same train set as last question and then test it on the test set and measure its accuracy and the time spent to solve it.\n",
    "(You can use *%%time* magic for a cell to measure the time spent to finish that cell.)\n"
   ]
  },
  {
   "cell_type": "code",
   "execution_count": 1,
   "metadata": {
    "collapsed": true
   },
   "outputs": [],
   "source": [
    "from sklearn.datasets import fetch_mldata\n",
    "from sklearn.model_selection import train_test_split\n",
    "from sklearn.neural_network import MLPClassifier\n",
    "\n",
    "mnist = fetch_mldata('MNIST original')\n",
    "x,y = mnist[\"data\"], mnist[\"target\"]\n",
    "x_train,x_test,y_train,y_test = train_test_split(x,y,test_size=0.33,random_state=42)"
   ]
  },
  {
   "cell_type": "code",
   "execution_count": 2,
   "metadata": {},
   "outputs": [
    {
     "name": "stdout",
     "output_type": "stream",
     "text": [
      "0.881082251082\n",
      "Wall time: 1min 42s\n"
     ]
    }
   ],
   "source": [
    "%%time \n",
    "# Create your MLPClassifier\n",
    "neuralNetwork = MLPClassifier(hidden_layer_sizes=(50, ), solver='lbfgs', alpha=10**(-5))\n",
    "neuralNetwork.fit(x_train, y_train)\n",
    "print(neuralNetwork.score(x_test, y_test))      # Print the accuracy"
   ]
  },
  {
   "cell_type": "markdown",
   "metadata": {},
   "source": [
    "**Question 8**\n",
    "By changing the parameters in your ANN model above, develop 3 variations in the cells below. In each case, measure time and accuracy. At the end, choose one of these 4 (including the original model you developed above) explaining why you chose it."
   ]
  },
  {
   "cell_type": "code",
   "execution_count": 3,
   "metadata": {},
   "outputs": [
    {
     "name": "stdout",
     "output_type": "stream",
     "text": [
      "0.944978354978\n",
      "Wall time: 2min 6s\n"
     ]
    }
   ],
   "source": [
    "%%time \n",
    "# Create your MLPClassifier\n",
    "neuralNetwork = MLPClassifier(hidden_layer_sizes=(100, ), solver='lbfgs', alpha=10**(-5))\n",
    "neuralNetwork.fit(x_train, y_train)\n",
    "print(neuralNetwork.score(x_test, y_test))      # Print the accuracy"
   ]
  },
  {
   "cell_type": "code",
   "execution_count": 4,
   "metadata": {},
   "outputs": [
    {
     "name": "stdout",
     "output_type": "stream",
     "text": [
      "0.200692640693\n",
      "Wall time: 21.3 s\n"
     ]
    }
   ],
   "source": [
    "%%time \n",
    "# Create your MLPClassifier\n",
    "neuralNetwork = MLPClassifier(hidden_layer_sizes=(50, ), solver='sgd', alpha=10**(-5))\n",
    "neuralNetwork.fit(x_train, y_train)\n",
    "print(neuralNetwork.score(x_test, y_test))      # Print the accuracy"
   ]
  },
  {
   "cell_type": "code",
   "execution_count": 6,
   "metadata": {
    "scrolled": true
   },
   "outputs": [
    {
     "name": "stdout",
     "output_type": "stream",
     "text": [
      "0.886233766234\n",
      "Wall time: 1min 35s\n"
     ]
    }
   ],
   "source": [
    "%%time \n",
    "# Create your MLPClassifier\n",
    "neuralNetwork = MLPClassifier(hidden_layer_sizes=(50, ), solver='lbfgs', alpha=10**(-2))\n",
    "neuralNetwork.fit(x_train, y_train)\n",
    "print(neuralNetwork.score(x_test, y_test))      # Print the accuracy"
   ]
  },
  {
   "cell_type": "markdown",
   "metadata": {},
   "source": [
    "\n",
    "\n",
    "** Explain which model you chose and why **\n",
    "\n"
   ]
  },
  {
   "cell_type": "markdown",
   "metadata": {},
   "source": [
    "Question Two: \n",
    "After running the initial model, we have produced an accuracy of 88.108% and a run time of 1:42 with the parameters dictated by the question. Within the next three iterations, we have decided to change each parameter to observe its effects on the model.\n",
    "\n",
    "First, we changed the size of our hidden layer to 100. This proved quite valuable since it increased our accuracy to 94.497%. The model did suffer in performance time since it took an additional 24 seconds to execute (total time was 2:06). However,  we see the extra 6% accuracy as worth the additional wait time, making this model superior to the initial model.\n",
    "\n",
    "Second, we have changed our solver parameter to ‘sgd’ which stands for stochastic gradient descent. The model resulted in poor results, with an accuracy of 20.069%. Although the model only took 21 second to run, the substantial decrease in accuracy makes this model inferior to models using “lbfgs”, especially since the run times of these other models, while longer, are by no means extensive (~2 mins or less in each case). \n",
    "\n",
    "Finally, we decreased the regularization term (alpha) to 1e - 7. The accuracy of the model was slightly higher than that of the original model (88.62% vs. 88.11%), however was lower than the model with the larger hidden layer. The run time (1:35) was similar to the original model, and lower than that of the model with the larger hidden layer. \n",
    "\n",
    "To conclude, increasing the size of our hidden layer from 50 to 100 yielded the best results, as it produced the highest accuracy with only moderately longer run times. Therefore, we have decided to choose this model to correctly predict the data. It is noted that both a larger hidden layer and a lower regularization term improved upon the original model. Hence, if we were able to further test models, a model with both a larger hidden layer, and a lower regularization term would be tested, in the hopes that accuracy would further improve. \n"
   ]
  },
  {
   "cell_type": "markdown",
   "metadata": {
    "collapsed": true
   },
   "source": [
    "## Problem 4: Using PCA \n",
    "Let's Apply PCA here to see if we can reduce the dimension of our data while retaining most of the variation. You may remeber from the course that one of the applications of PCA is to reduce dimensinality by finding the eigen vectors and eigen values and then mapping the whole dataset into the new space defined by those vectors.\n",
    "\n",
    "To do so, we use PCA package from [Scikit Learn](http://scikit-learn.org/stable/modules/generated/sklearn.decomposition.PCA.html)."
   ]
  },
  {
   "cell_type": "markdown",
   "metadata": {},
   "source": [
    "** Question 9 **\n",
    "Apply PCA on the same data (MNIST) to reduce the dimension of the data while retaining 95% of the variance. As for the rest of the parameters, go with the default settings. At the end, measure the variance you explained from the original data and also save your data in new nd_array named X_PCA.\n"
   ]
  },
  {
   "cell_type": "code",
   "execution_count": 20,
   "metadata": {
    "collapsed": true
   },
   "outputs": [],
   "source": [
    "## Your code goes Here"
   ]
  },
  {
   "cell_type": "markdown",
   "metadata": {},
   "source": [
    "** Question 10 **\n",
    "Having the new matrix X_PCA, use the same split we did right before question 6, and prepare new sets of train and test data along with corresponding labels.\n"
   ]
  },
  {
   "cell_type": "code",
   "execution_count": 21,
   "metadata": {
    "collapsed": true
   },
   "outputs": [],
   "source": [
    "## Your code goes Here\n"
   ]
  },
  {
   "cell_type": "markdown",
   "metadata": {},
   "source": [
    "** Quesetion 11 ** \n",
    "Pick the model of your choice from question 8, and this time train it on this new data set you made in question 10. Measure time and accuracy, and then write your insights about this process (from question 7 upto this part)."
   ]
  },
  {
   "cell_type": "code",
   "execution_count": 22,
   "metadata": {
    "collapsed": true
   },
   "outputs": [],
   "source": [
    "## Your code goes Here\n"
   ]
  },
  {
   "cell_type": "markdown",
   "metadata": {},
   "source": [
    "** write your comments and insights here **"
   ]
  }
 ],
 "metadata": {
  "kernelspec": {
   "display_name": "Python 3",
   "language": "python",
   "name": "python3"
  },
  "language_info": {
   "codemirror_mode": {
    "name": "ipython",
    "version": 3
   },
   "file_extension": ".py",
   "mimetype": "text/x-python",
   "name": "python",
   "nbconvert_exporter": "python",
   "pygments_lexer": "ipython3",
   "version": "3.6.3"
  }
 },
 "nbformat": 4,
 "nbformat_minor": 2
}
