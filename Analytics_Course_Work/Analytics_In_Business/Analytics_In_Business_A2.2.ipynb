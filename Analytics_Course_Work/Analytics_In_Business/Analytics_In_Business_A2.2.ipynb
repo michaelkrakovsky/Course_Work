{
 "cells": [
  {
   "cell_type": "markdown",
   "metadata": {},
   "source": [
    "# Comm 461 Assignment 2 Part B\n",
    "\n",
    "\n",
    "** SUBMITTED BY: **"
   ]
  },
  {
   "cell_type": "markdown",
   "metadata": {},
   "source": [
    "Michael Krakovsky 10134030 | Aidan Horvath 10132966 | David Aquino 10134911 | Abhit Sahota 10147351"
   ]
  },
  {
   "cell_type": "markdown",
   "metadata": {},
   "source": [
    "## Instructions\n",
    "In the problems below, modify and enter Python 3 code in the code cells as required by the questions. Also, when prompted, provide your written answers in the markdown cells marked as \n",
    "\n",
    "*Your answer goes here*\n",
    "\n",
    "The code you enter is expected to run under default Anacoda package configuration for Python 3 unless stated otherwise. \n",
    "\n",
    "For this assignment, we are using \"surprise\" package. You may read instructions about installation and basic usage of this package [here](http://surpriselib.com). In particular, you may have to execute the following command in Anaconda Prompt to install the package:\n",
    "\n",
    "```\n",
    "conda install -c conda-forge scikit-surprise\n",
    "```\n",
    "\n",
    "---\n",
    "The code cell below imports several standard packages as well as surprise package required for this assignment. Also, we use the dataset Movielens-100K, which may be automatically downloaded on the first execution of this code block."
   ]
  },
  {
   "cell_type": "code",
   "execution_count": 2,
   "metadata": {
    "collapsed": true
   },
   "outputs": [],
   "source": [
    "from surprise import SVD\n",
    "from surprise import Dataset\n",
    "from surprise import prediction_algorithms\n",
    "from surprise import similarities\n",
    "from surprise.model_selection import cross_validate\n",
    "\n",
    "# Load the movielens-100k dataset (download it if needed).\n",
    "data = Dataset.load_builtin('ml-100k')"
   ]
  },
  {
   "cell_type": "markdown",
   "metadata": {},
   "source": [
    "## Question 1: Building Recommender Models.\n",
    "Using 10-fold cross validation, with RMSE and MAE as the measures, compare following methods in terms of accuracy in the cell below:\n",
    "1. Baseline prediction algorithm (recall baseline performance from chapter 7).\n",
    "2. SVD method.\n",
    "3. KNNBasic method.\n",
    "4. NMF method.\n",
    "\n",
    "As an illustration, the code block below shows Step 1 (Baseline algorithm using ```prediction_algorithms.BaselineOnly()```)."
   ]
  },
  {
   "cell_type": "code",
   "execution_count": 2,
   "metadata": {},
   "outputs": [
    {
     "name": "stdout",
     "output_type": "stream",
     "text": [
      "Evaluating RMSE, MAE of algorithm BaselineOnly on 10 split(s).\n",
      "\n",
      "                  Fold 1  Fold 2  Fold 3  Fold 4  Fold 5  Fold 6  Fold 7  Fold 8  Fold 9  Fold 10 Mean    Std     \n",
      "RMSE (testset)    0.9438  0.9503  0.9413  0.9337  0.9404  0.9487  0.9435  0.9308  0.9388  0.9504  0.9422  0.0063  \n",
      "MAE (testset)     0.7507  0.7493  0.7473  0.7380  0.7460  0.7504  0.7499  0.7358  0.7457  0.7531  0.7466  0.0053  \n",
      "Fit time          0.09    0.09    0.09    0.09    0.10    0.12    0.08    0.08    0.08    0.07    0.09    0.01    \n",
      "Test time         0.10    0.08    0.08    0.10    0.07    0.08    0.06    0.06    0.09    0.07    0.08    0.01    \n"
     ]
    },
    {
     "data": {
      "text/plain": [
       "{'fit_time': (0.09124279022216797,\n",
       "  0.0947263240814209,\n",
       "  0.08773183822631836,\n",
       "  0.09438395500183105,\n",
       "  0.09525346755981445,\n",
       "  0.11771297454833984,\n",
       "  0.08121466636657715,\n",
       "  0.07520008087158203,\n",
       "  0.07720613479614258,\n",
       "  0.06817984580993652),\n",
       " 'test_mae': array([ 0.75066036,  0.74928356,  0.74733923,  0.73801473,  0.74600577,\n",
       "         0.75037586,  0.74990743,  0.73584595,  0.74572059,  0.75311771]),\n",
       " 'test_rmse': array([ 0.94384007,  0.95033977,  0.94126473,  0.93367251,  0.94036027,\n",
       "         0.94869673,  0.9434865 ,  0.93079082,  0.93879489,  0.95041934]),\n",
       " 'test_time': (0.09926366806030273,\n",
       "  0.08474946022033691,\n",
       "  0.08475947380065918,\n",
       "  0.10013961791992188,\n",
       "  0.069183349609375,\n",
       "  0.08121728897094727,\n",
       "  0.062165260314941406,\n",
       "  0.062166452407836914,\n",
       "  0.08823418617248535,\n",
       "  0.07219147682189941)}"
      ]
     },
     "execution_count": 2,
     "metadata": {},
     "output_type": "execute_result"
    }
   ],
   "source": [
    "algo_1 = prediction_algorithms.BaselineOnly()\n",
    "cross_validate(algo_1, data, measures=['RMSE', 'MAE'], cv=10, verbose=True)"
   ]
  },
  {
   "cell_type": "code",
   "execution_count": 3,
   "metadata": {},
   "outputs": [
    {
     "name": "stdout",
     "output_type": "stream",
     "text": [
      "Evaluating RMSE, MAE of algorithm SVD on 10 split(s).\n",
      "\n",
      "                  Fold 1  Fold 2  Fold 3  Fold 4  Fold 5  Fold 6  Fold 7  Fold 8  Fold 9  Fold 10 Mean    Std     \n",
      "RMSE (testset)    0.9164  0.9379  0.9352  0.9336  0.9322  0.9327  0.9135  0.9294  0.9391  0.9295  0.9299  0.0081  \n",
      "MAE (testset)     0.7225  0.7319  0.7384  0.7345  0.7315  0.7351  0.7184  0.7284  0.7454  0.7329  0.7319  0.0073  \n",
      "Fit time          7.20    6.90    6.99    6.99    6.25    6.14    5.65    5.32    5.01    4.86    6.13    0.84    \n",
      "Test time         0.08    0.08    0.13    0.12    0.06    0.06    0.06    0.06    0.07    0.07    0.08    0.02    \n"
     ]
    },
    {
     "data": {
      "text/plain": [
       "{'fit_time': (7.203153848648071,\n",
       "  6.900176525115967,\n",
       "  6.991591453552246,\n",
       "  6.988584041595459,\n",
       "  6.2546257972717285,\n",
       "  6.138293743133545,\n",
       "  5.647010564804077,\n",
       "  5.322146654129028,\n",
       "  5.005305528640747,\n",
       "  4.86496376991272),\n",
       " 'test_mae': array([ 0.72245848,  0.73187599,  0.73841635,  0.73447419,  0.73148989,\n",
       "         0.7350524 ,  0.71837535,  0.72844632,  0.74538989,  0.73285834]),\n",
       " 'test_rmse': array([ 0.91636961,  0.93790552,  0.93516084,  0.93359908,  0.93219041,\n",
       "         0.93271961,  0.91349443,  0.92942199,  0.93912475,  0.92949919]),\n",
       " 'test_time': (0.0832211971282959,\n",
       "  0.0843954086303711,\n",
       "  0.1293954849243164,\n",
       "  0.12433075904846191,\n",
       "  0.061162471771240234,\n",
       "  0.0631871223449707,\n",
       "  0.06417107582092285,\n",
       "  0.061162710189819336,\n",
       "  0.07018637657165527,\n",
       "  0.07216000556945801)}"
      ]
     },
     "execution_count": 3,
     "metadata": {},
     "output_type": "execute_result"
    }
   ],
   "source": [
    "algo_2 = SVD()\n",
    "cross_validate(algo_2, data, measures=['RMSE', 'MAE'], cv=10, verbose=True)"
   ]
  },
  {
   "cell_type": "code",
   "execution_count": 4,
   "metadata": {},
   "outputs": [
    {
     "name": "stdout",
     "output_type": "stream",
     "text": [
      "Evaluating RMSE, MAE of algorithm KNNBasic on 10 split(s).\n",
      "\n",
      "                  Fold 1  Fold 2  Fold 3  Fold 4  Fold 5  Fold 6  Fold 7  Fold 8  Fold 9  Fold 10 Mean    Std     \n",
      "RMSE (testset)    0.9703  0.9748  0.9637  0.9651  0.9889  0.9786  0.9747  0.9754  0.9718  0.9684  0.9732  0.0069  \n",
      "MAE (testset)     0.7636  0.7711  0.7602  0.7620  0.7774  0.7750  0.7712  0.7688  0.7679  0.7629  0.7680  0.0055  \n",
      "Fit time          0.96    1.06    1.00    0.64    0.77    0.85    0.79    0.95    0.63    0.54    0.82    0.17    \n",
      "Test time         1.94    1.77    1.67    1.65    1.87    1.69    1.57    1.35    1.31    1.30    1.61    0.22    \n"
     ]
    },
    {
     "data": {
      "text/plain": [
       "{'fit_time': (0.9628615379333496,\n",
       "  1.0638275146484375,\n",
       "  0.9976530075073242,\n",
       "  0.6432743072509766,\n",
       "  0.7670378684997559,\n",
       "  0.8475732803344727,\n",
       "  0.7868494987487793,\n",
       "  0.9499914646148682,\n",
       "  0.6326813697814941,\n",
       "  0.5404362678527832),\n",
       " 'test_mae': array([ 0.76356089,  0.77106014,  0.7602337 ,  0.76202925,  0.77738704,\n",
       "         0.77495832,  0.77122081,  0.76882911,  0.76786444,  0.76291271]),\n",
       " 'test_rmse': array([ 0.97028993,  0.97478419,  0.96367374,  0.96510784,  0.98893079,\n",
       "         0.97859822,  0.9747184 ,  0.97540506,  0.97184326,  0.9683784 ]),\n",
       " 'test_time': (1.9448637962341309,\n",
       "  1.7676992416381836,\n",
       "  1.6745274066925049,\n",
       "  1.6524701118469238,\n",
       "  1.8670079708099365,\n",
       "  1.6912205219268799,\n",
       "  1.5711705684661865,\n",
       "  1.3545989990234375,\n",
       "  1.3054969310760498,\n",
       "  1.3020992279052734)}"
      ]
     },
     "execution_count": 4,
     "metadata": {},
     "output_type": "execute_result"
    }
   ],
   "source": [
    "algo_3 = prediction_algorithms.knns.KNNBasic()\n",
    "cross_validate(algo_3, data, measures=['RMSE', 'MAE'], cv=10, verbose=True)"
   ]
  },
  {
   "cell_type": "code",
   "execution_count": 5,
   "metadata": {},
   "outputs": [
    {
     "name": "stdout",
     "output_type": "stream",
     "text": [
      "Evaluating RMSE, MAE of algorithm NMF on 10 split(s).\n",
      "\n",
      "                  Fold 1  Fold 2  Fold 3  Fold 4  Fold 5  Fold 6  Fold 7  Fold 8  Fold 9  Fold 10 Mean    Std     \n",
      "RMSE (testset)    0.9522  0.9606  0.9656  0.9613  0.9447  0.9484  0.9679  0.9443  0.9609  0.9631  0.9569  0.0083  \n",
      "MAE (testset)     0.7492  0.7583  0.7591  0.7586  0.7455  0.7460  0.7572  0.7436  0.7550  0.7559  0.7528  0.0058  \n",
      "Fit time          7.34    6.70    6.44    6.25    5.50    5.54    5.41    5.29    5.02    5.01    5.85    0.74    \n",
      "Test time         0.07    0.07    0.07    0.07    0.06    0.05    0.06    0.06    0.06    0.06    0.06    0.01    \n"
     ]
    },
    {
     "data": {
      "text/plain": [
       "{'fit_time': (7.335296392440796,\n",
       "  6.699810028076172,\n",
       "  6.435436964035034,\n",
       "  6.251949071884155,\n",
       "  5.503960847854614,\n",
       "  5.540056943893433,\n",
       "  5.405369520187378,\n",
       "  5.294070720672607,\n",
       "  5.023379325866699,\n",
       "  5.011321544647217),\n",
       " 'test_mae': array([ 0.74917071,  0.75827633,  0.75909673,  0.75860999,  0.74549473,\n",
       "         0.74603987,  0.75718575,  0.74359057,  0.75499045,  0.75591732]),\n",
       " 'test_rmse': array([ 0.9521685 ,  0.96063395,  0.96560435,  0.96127311,  0.94471398,\n",
       "         0.9483572 ,  0.96788032,  0.94430083,  0.96086058,  0.96307217]),\n",
       " 'test_time': (0.07219219207763672,\n",
       "  0.07219171524047852,\n",
       "  0.07319450378417969,\n",
       "  0.07419776916503906,\n",
       "  0.057152509689331055,\n",
       "  0.05314183235168457,\n",
       "  0.061162471771240234,\n",
       "  0.05815601348876953,\n",
       "  0.061162710189819336,\n",
       "  0.06119036674499512)}"
      ]
     },
     "execution_count": 5,
     "metadata": {},
     "output_type": "execute_result"
    }
   ],
   "source": [
    "algo_4 = prediction_algorithms.matrix_factorization.NMF()\n",
    "cross_validate(algo_4, data, measures=['RMSE', 'MAE'], cv=10, verbose=True)"
   ]
  },
  {
   "cell_type": "markdown",
   "metadata": {},
   "source": [
    "## Question 2: Dealing with the Results\n",
    "Based on your results in question 1, discuss the meaning of accuracy metrics and your findings regarding the accuracy of the algorithms used above."
   ]
  },
  {
   "cell_type": "markdown",
   "metadata": {},
   "source": [
    "RMSE: Root Mean Squared Error. RMSE is a frequently used measure of the differences between values (sample and population values) predicted by a model or an estimator and the values actually observed. The RMSE represents the sample standard deviation of the differences between predicted values and observed values.RMSD is the square root of the average of squared errors. The effect of each error on RMSD is proportional to the size of the squared error; thus larger errors have a disproportionately large effect on RMSE. Consequently, RMSE is sensitive to outliers."
   ]
  },
  {
   "cell_type": "markdown",
   "metadata": {},
   "source": [
    "## Question 3 (a): Similarity\n",
    "In this question, we want to observe the effect of similarity measures on our recommender model. For that, do the following:\n",
    "1. Build a KNNBasic recommender model using 'pearson_baseline' similarity measure.\n",
    "2. Build a KNNBasic recommender model using 'cosine' similarity measure.\n",
    "3. In each case above, try both 'user' to 'movie' similarity basis.\n",
    "4. Compare your results using two accuracy measure of your choice.\n",
    "\n",
    "As an illustration, the code block currently shows settings for 'pearson_baseline' similarity measure and 'user' basis."
   ]
  },
  {
   "cell_type": "code",
   "execution_count": 7,
   "metadata": {
    "scrolled": true
   },
   "outputs": [
    {
     "name": "stdout",
     "output_type": "stream",
     "text": [
      "Evaluating RMSE, MAE of algorithm KNNBasic on 5 split(s).\n",
      "\n",
      "                  Fold 1  Fold 2  Fold 3  Fold 4  Fold 5  Mean    Std     \n",
      "RMSE (testset)    1.0088  0.9952  0.9959  0.9998  1.0002  1.0000  0.0048  \n",
      "MAE (testset)     0.7968  0.7869  0.7894  0.7900  0.7928  0.7912  0.0034  \n",
      "Fit time          3.43    3.45    3.57    3.43    2.42    3.26    0.42    \n",
      "Test time         5.33    5.42    5.41    5.17    3.00    4.86    0.94    \n"
     ]
    },
    {
     "data": {
      "text/plain": [
       "{'fit_time': (3.4321963787078857,\n",
       "  3.450197219848633,\n",
       "  3.565203905105591,\n",
       "  3.431196451187134,\n",
       "  2.4201385974884033),\n",
       " 'test_mae': array([ 0.79678621,  0.78687873,  0.78943538,  0.79004727,  0.79278531]),\n",
       " 'test_rmse': array([ 1.00877402,  0.99522212,  0.99591711,  0.99981802,  1.00023336]),\n",
       " 'test_time': (5.328304767608643,\n",
       "  5.4203102588653564,\n",
       "  5.407309055328369,\n",
       "  5.166295528411865,\n",
       "  2.995171308517456)}"
      ]
     },
     "execution_count": 7,
     "metadata": {},
     "output_type": "execute_result"
    }
   ],
   "source": [
    "sim_options = {'name': 'pearson_baseline', 'user_based': True}\n",
    "algo = prediction_algorithms.KNNBasic(sim_options = sim_options)\n",
    "cross_validate(algo, data, measures=['RMSE', 'MAE'], cv=5, verbose=True)"
   ]
  },
  {
   "cell_type": "code",
   "execution_count": 6,
   "metadata": {
    "scrolled": true
   },
   "outputs": [
    {
     "name": "stdout",
     "output_type": "stream",
     "text": [
      "Evaluating RMSE, MAE of algorithm KNNBasic on 5 split(s).\n",
      "\n",
      "                  Fold 1  Fold 2  Fold 3  Fold 4  Fold 5  Mean    Std     \n",
      "RMSE (testset)    1.0167  1.0157  1.0115  1.0210  1.0157  1.0161  0.0030  \n",
      "MAE (testset)     0.8049  0.8018  0.8018  0.8077  0.8035  0.8039  0.0022  \n",
      "Fit time          1.75    1.82    2.04    2.19    1.87    1.94    0.16    \n",
      "Test time         5.02    5.01    4.76    4.74    4.78    4.86    0.13    \n"
     ]
    },
    {
     "data": {
      "text/plain": [
       "{'fit_time': (1.7548258304595947,\n",
       "  1.824467420578003,\n",
       "  2.0440425872802734,\n",
       "  2.1887471675872803,\n",
       "  1.872978925704956),\n",
       " 'test_mae': array([ 0.8048905 ,  0.80179282,  0.80175449,  0.80772071,  0.80348706]),\n",
       " 'test_rmse': array([ 1.01673784,  1.01573682,  1.0114767 ,  1.02103317,  1.01571443]),\n",
       " 'test_time': (5.021786212921143,\n",
       "  5.014368772506714,\n",
       "  4.756706476211548,\n",
       "  4.737298011779785,\n",
       "  4.779748201370239)}"
      ]
     },
     "execution_count": 6,
     "metadata": {},
     "output_type": "execute_result"
    }
   ],
   "source": [
    "sim_options = {'name': 'cosine', 'user_based': True}\n",
    "algo = prediction_algorithms.KNNBasic(sim_options = sim_options)\n",
    "cross_validate(algo, data, measures=['RMSE', 'MAE'], cv=5, verbose=True)"
   ]
  },
  {
   "cell_type": "code",
   "execution_count": 4,
   "metadata": {},
   "outputs": [
    {
     "name": "stdout",
     "output_type": "stream",
     "text": [
      "Evaluating RMSE, MAE of algorithm KNNBasic on 5 split(s).\n",
      "\n",
      "                  Fold 1  Fold 2  Fold 3  Fold 4  Fold 5  Mean    Std     \n",
      "RMSE (testset)    0.9855  0.9988  0.9965  0.9945  0.9859  0.9922  0.0055  \n",
      "MAE (testset)     0.7773  0.7859  0.7817  0.7827  0.7738  0.7803  0.0042  \n",
      "Fit time          3.74    3.79    3.53    3.39    3.76    3.64    0.15    \n",
      "Test time         4.26    4.34    4.27    4.11    4.71    4.34    0.20    \n"
     ]
    },
    {
     "data": {
      "text/plain": [
       "{'fit_time': (3.7439050674438477,\n",
       "  3.7861337661743164,\n",
       "  3.532837152481079,\n",
       "  3.394448757171631,\n",
       "  3.758127450942993),\n",
       " 'test_mae': array([ 0.77726116,  0.78585474,  0.78170739,  0.78273415,  0.773846  ]),\n",
       " 'test_rmse': array([ 0.98551853,  0.99879864,  0.99646134,  0.99447147,  0.98589477]),\n",
       " 'test_time': (4.2551703453063965,\n",
       "  4.338529825210571,\n",
       "  4.266150951385498,\n",
       "  4.113181829452515,\n",
       "  4.711071014404297)}"
      ]
     },
     "execution_count": 4,
     "metadata": {},
     "output_type": "execute_result"
    }
   ],
   "source": [
    "sim_options = {'name': 'pearson_baseline', 'user_based': False}\n",
    "algo = prediction_algorithms.KNNBasic(sim_options = sim_options)\n",
    "cross_validate(algo, data, measures=['RMSE', 'MAE'], cv=5, verbose=True)"
   ]
  },
  {
   "cell_type": "code",
   "execution_count": 5,
   "metadata": {},
   "outputs": [
    {
     "name": "stdout",
     "output_type": "stream",
     "text": [
      "Evaluating RMSE, MAE of algorithm KNNBasic on 5 split(s).\n",
      "\n",
      "                  Fold 1  Fold 2  Fold 3  Fold 4  Fold 5  Mean    Std     \n",
      "RMSE (testset)    1.0286  1.0276  1.0204  1.0292  1.0277  1.0267  0.0032  \n",
      "MAE (testset)     0.8136  0.8099  0.8061  0.8157  0.8131  0.8117  0.0034  \n",
      "Fit time          2.92    2.99    2.89    2.67    2.80    2.85    0.11    \n",
      "Test time         4.44    4.52    4.74    4.63    5.12    4.69    0.24    \n"
     ]
    },
    {
     "data": {
      "text/plain": [
       "{'fit_time': (2.9192285537719727,\n",
       "  2.9863903522491455,\n",
       "  2.890115737915039,\n",
       "  2.6713106632232666,\n",
       "  2.799600601196289),\n",
       " 'test_mae': array([ 0.81362895,  0.80988778,  0.80609902,  0.8157475 ,  0.81310685]),\n",
       " 'test_rmse': array([ 1.02864153,  1.02755149,  1.02038949,  1.02921559,  1.02771374]),\n",
       " 'test_time': (4.436439275741577,\n",
       "  4.5163891315460205,\n",
       "  4.742566823959351,\n",
       "  4.628752708435059,\n",
       "  5.124691724777222)}"
      ]
     },
     "execution_count": 5,
     "metadata": {},
     "output_type": "execute_result"
    }
   ],
   "source": [
    "sim_options = {'name': 'cosine', 'user_based': False}\n",
    "algo = prediction_algorithms.KNNBasic(sim_options = sim_options)\n",
    "cross_validate(algo, data, measures=['RMSE', 'MAE'], cv=5, verbose=True)"
   ]
  },
  {
   "cell_type": "markdown",
   "metadata": {},
   "source": [
    "RMSE: Root Mean Squared Error. RMSE is a frequently used measure of the differences between values (sample and population values) predicted by a model or an estimator and the values actually observed. The RMSE represents the sample standard deviation of the differences between predicted values and observed values.RMSD is the square root of the average of squared errors. The effect of each error on RMSD is proportional to the size of the squared error; thus larger errors have a disproportionately large effect on RMSE. Consequently, RMSE is sensitive to outliers.\n",
    "\n",
    "Mean and Standard Deviation of Fold RMSEs by algorithm: \n",
    "Algorithm 1 (Baseline prediction algorithm): 0.9422, 0.0063\n",
    "Algorithm 2 (SVD method): 0.9299, 0.0081\n",
    "Algorithm 3 (KNNBasic): 0.9732, 0.0069\n",
    "Algorithm 4 (NMF method): 0.9569, 0.0083\n",
    "\n",
    "MAE: Mean Absolute Error. MAE is an accuracy measure which represents the average vertical distance from each datapoint to the line y = x. The lower the MAE, the more accurate the model. While its mean-based nature makes MAE somewhat sensitive to outliers in datasets, it is less sensitive to outliers than RMSE because it does not square its numerator. \n",
    "\n",
    "Mean and Standard Deviation of Fold MAEs by algorithm: \n",
    "Algorithm 1 (Baseline prediction algorithm): 0.7466, 0.0053\n",
    "Algorithm 2 (SVD method): 0.7319, 0.0073\n",
    "Algorithm 3 (KNNBasic): 0.7680, 0.0055\n",
    "Algorithm 4 (NMF method): 0.7528, 0.0058\n",
    "\n",
    "Overall Discussion of Findings: \n",
    "The SVD method is the only one which outperforms the baseline prediction algorithm in terms of both RMSE and MAE. Both KNNBasic and NMF have higher error rates than the baseline model, indicating they add little predictive value in this case. Hence, SVD would be the recommended model. It is noted that SVD displayed the second-highest and highest standard deviation across folds for both RMSE and MAE, respectively. However, despite being the most variable across folds, SVD still outperformed the baseline model in terms of RMSE on 9/10 folds, and in terms of MAE on all folds. \n"
   ]
  },
  {
   "cell_type": "markdown",
   "metadata": {},
   "source": [
    "## Question 3 (b)\n",
    "Discuss the results of question 3 (a) in the cell below."
   ]
  },
  {
   "cell_type": "markdown",
   "metadata": {},
   "source": [
    "RMSE and MAE were the two accuracy metrics chosen. Their results for each variation of the model are listed below, and then discussed. \n",
    "\n",
    "Mean and Standard Deviation of RMSE across 5 folds for each model: \n",
    "Pearson-baseline, user: 1.000, 0.0048\n",
    "Cosine, user: 1.0161, 0.0030\n",
    "Pearson-baseline, movie: 0.9922, 0.0055\n",
    "Cosine, movie: 1.0267, 0.0032\n",
    "\n",
    "Mean and Standard Deviation of MAE across 5 folds for each model: \n",
    "Pearson-baseline, user: 0.7912, 0.0034\n",
    "Cosine, user: 0.8039, 0.0022\n",
    "Pearson-baseline, movie: 0.7803, 0.0042\n",
    "Cosine, movie: 0.8117, 0.0034\n",
    "\n",
    "For both RMSE and MAE, the models ranked from most to least accurate are as follows: Pearson-baseline (movie), Pearson-baseline (user), Cosine similarity (user), Cosine similarity (movie). Hence, the Pearson-baseline method performed significantly better than cosine similarity on both metrics (although it did display higher variation across folds). This indicates that for this user set, Pearson-Baseline is the superior recommender system, regardless of if user-user (user) or item-item (movie) methods are used. \n",
    "Between these two methods, clearly item-item (movie) is superior if the Pearson-Baseline recommender system is used. However, when ultimately choosing a method, other factors should also be taken into account. Most saliently is whether the system is more likely to face new-user or new-item problems. For example, if the movie database has a relatively stable set of content, but has yet to create a large user base, new-user problems would be more likely. In this case, item-item (movie method) may be preferable since this mitigates new user problems. In the opposite case (stagnant/developed user base but rapidly expanding content set), the user-based method may be preferable since this mitigates against new-item problems. \n"
   ]
  },
  {
   "cell_type": "markdown",
   "metadata": {},
   "source": [
    "## Question 3 (c)\n",
    "For each of the 'item' based recommenders in 3 (a), get the top 20 nearest neighbors of the 'Lion King, The (1994)' movie. Reuse part of the code from http://surprise.readthedocs.io/en/stable/FAQ.html#how-to-get-the-k-nearest-neighbors-of-a-user-or-item"
   ]
  },
  {
   "cell_type": "code",
   "execution_count": 10,
   "metadata": {},
   "outputs": [
    {
     "name": "stdout",
     "output_type": "stream",
     "text": [
      "Estimating biases using als...\n",
      "Computing the pearson_baseline similarity matrix...\n",
      "Done computing similarity matrix.\n",
      "\n",
      "The 20 nearest neighbors of Lion King are:\n",
      "Aladdin (1992)\n",
      "Beauty and the Beast (1991)\n",
      "Mrs. Doubtfire (1993)\n",
      "Toy Story (1995)\n",
      "American President, The (1995)\n",
      "Fox and the Hound, The (1981)\n",
      "Cinderella (1950)\n",
      "Jumanji (1995)\n",
      "Firm, The (1993)\n",
      "My Fair Lady (1964)\n",
      "Robin Hood: Prince of Thieves (1991)\n",
      "Forrest Gump (1994)\n",
      "It's a Wonderful Life (1946)\n",
      "Jungle Book, The (1994)\n",
      "Pinocchio (1940)\n",
      "Field of Dreams (1989)\n",
      "Independence Day (ID4) (1996)\n",
      "Ghost (1990)\n",
      "Sleepless in Seattle (1993)\n",
      "Dragonheart (1996)\n"
     ]
    }
   ],
   "source": [
    "import io  # needed because of weird encoding of u.item file\n",
    "\n",
    "from surprise import KNNBaseline\n",
    "from surprise import Dataset\n",
    "from surprise import get_dataset_dir\n",
    "\n",
    "\n",
    "def read_item_names():\n",
    "    \"\"\"Read the u.item file from MovieLens 100-k dataset and return two\n",
    "    mappings to convert raw ids into movie names and movie names into raw ids.\n",
    "    \"\"\"\n",
    "\n",
    "    file_name = get_dataset_dir() + '/ml-100k/ml-100k/u.item'\n",
    "    rid_to_name = {}\n",
    "    name_to_rid = {}\n",
    "    with io.open(file_name, 'r', encoding='ISO-8859-1') as f:\n",
    "        for line in f:\n",
    "            line = line.split('|')\n",
    "            rid_to_name[line[0]] = line[1]\n",
    "            name_to_rid[line[1]] = line[0]\n",
    "\n",
    "    return rid_to_name, name_to_rid\n",
    "\n",
    "\n",
    "# First, train the algortihm to compute the similarities between items\n",
    "data = Dataset.load_builtin('ml-100k')\n",
    "trainset = data.build_full_trainset()\n",
    "sim_options = {'name': 'pearson_baseline', 'user_based': False}\n",
    "algo = KNNBaseline(sim_options=sim_options)\n",
    "algo.fit(trainset)\n",
    "\n",
    "# Read the mappings raw id <-> movie name\n",
    "rid_to_name, name_to_rid = read_item_names()\n",
    "\n",
    "# Retrieve inner id of the movie Toy Story\n",
    "lionKingRawId = name_to_rid['Lion King, The (1994)']\n",
    "lionKingInnerId = algo.trainset.to_inner_iid(lionKingRawId)\n",
    "\n",
    "# Retrieve inner ids of the nearest neighbors of Toy Story.\n",
    "lionKingNeighbors = algo.get_neighbors(lionKingInnerId, k=20)\n",
    "\n",
    "# Convert inner ids of the neighbors into names.\n",
    "lionKingNeighbors = (algo.trainset.to_raw_iid(inner_id)\n",
    "                       for inner_id in lionKingNeighbors)\n",
    "lionKingNeighbors = (rid_to_name[rid]\n",
    "                       for rid in lionKingNeighbors)\n",
    "\n",
    "print()\n",
    "print('The 20 nearest neighbors of Lion King are:')\n",
    "for movie in lionKingNeighbors:\n",
    "    print(movie)"
   ]
  },
  {
   "cell_type": "code",
   "execution_count": null,
   "metadata": {
    "collapsed": true
   },
   "outputs": [],
   "source": []
  }
 ],
 "metadata": {
  "kernelspec": {
   "display_name": "Python 3",
   "language": "python",
   "name": "python3"
  },
  "language_info": {
   "codemirror_mode": {
    "name": "ipython",
    "version": 3
   },
   "file_extension": ".py",
   "mimetype": "text/x-python",
   "name": "python",
   "nbconvert_exporter": "python",
   "pygments_lexer": "ipython3",
   "version": "3.6.3"
  }
 },
 "nbformat": 4,
 "nbformat_minor": 2
}
